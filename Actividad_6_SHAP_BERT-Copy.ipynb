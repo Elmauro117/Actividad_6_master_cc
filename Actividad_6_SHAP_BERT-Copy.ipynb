{
 "cells": [
  {
   "cell_type": "code",
   "execution_count": 1,
   "metadata": {},
   "outputs": [],
   "source": [
    "## Requerimientos\n",
    "## tf.__version__ que sea 2.6.2\n",
    "\n",
    "# !pip  install transformers==4.5.1 -q\n",
    "\n",
    "# CUDA\n",
    "# Cuda compilation tools, release 11.2, V11.2.67\n",
    "# Build cuda_11.2.r11.2/compiler.29373293_0"
   ]
  },
  {
   "cell_type": "code",
   "execution_count": 42,
   "metadata": {
    "id": "eK0Z9nsVoAsp"
   },
   "outputs": [],
   "source": [
    "import transformers"
   ]
  },
  {
   "cell_type": "code",
   "execution_count": 43,
   "metadata": {
    "colab": {
     "base_uri": "https://localhost:8080/",
     "height": 443
    },
    "id": "Ips7tyLkoAw3",
    "outputId": "2afba5b8-70d8-4f30-9126-665095852bf2"
   },
   "outputs": [],
   "source": [
    "import tensorflow as tf\n",
    "import keras\n",
    "import pandas as pd\n",
    "import json\n",
    "import gc\n",
    "\n",
    "import numpy as np\n",
    "\n",
    "from tqdm import tqdm\n",
    "\n",
    "from transformers import DistilBertTokenizer\n",
    "from transformers import TFDistilBertForSequenceClassification\n",
    "from transformers.utils import logging\n",
    "\n",
    "#from transformers import TextClassificationPipeline\n",
    "\n",
    "\n",
    "from sklearn.model_selection import train_test_split\n",
    "from sklearn.preprocessing import LabelEncoder\n",
    "\n",
    "import re\n",
    "    \n",
    "import seaborn as sns\n",
    "import matplotlib.pyplot as plt\n",
    "from plotly.offline import iplot\n",
    "\n"
   ]
  },
  {
   "cell_type": "markdown",
   "metadata": {},
   "source": [
    "Cerciorarse que estemos usando el GPU, debemos tener cuda instalado"
   ]
  },
  {
   "cell_type": "code",
   "execution_count": 44,
   "metadata": {
    "colab": {
     "base_uri": "https://localhost:8080/"
    },
    "id": "xJIYJnEaNlp1",
    "outputId": "87e6ac0c-b684-477d-f47e-73d0b9adf857"
   },
   "outputs": [
    {
     "name": "stdout",
     "output_type": "stream",
     "text": [
      "GPU: [PhysicalDevice(name='/physical_device:GPU:0', device_type='GPU')]\n",
      "Num GPUs: 1\n"
     ]
    }
   ],
   "source": [
    "physical_devices = tf.config.list_physical_devices('GPU')\n",
    "\n",
    "print(\"GPU:\", tf.config.list_physical_devices('GPU'))\n",
    "print(\"Num GPUs:\", len(physical_devices))"
   ]
  },
  {
   "cell_type": "code",
   "execution_count": 45,
   "metadata": {},
   "outputs": [
    {
     "data": {
      "text/plain": [
       "[PhysicalDevice(name='/physical_device:GPU:0', device_type='GPU')]"
      ]
     },
     "execution_count": 45,
     "metadata": {},
     "output_type": "execute_result"
    }
   ],
   "source": [
    "tf.config.list_physical_devices('GPU')"
   ]
  },
  {
   "cell_type": "markdown",
   "metadata": {},
   "source": [
    "Ubicarse en el lugar donde se tenga la data"
   ]
  },
  {
   "cell_type": "code",
   "execution_count": 46,
   "metadata": {},
   "outputs": [
    {
     "name": "stdout",
     "output_type": "stream",
     "text": [
      "F:\\Maestria\\TESIS\n"
     ]
    }
   ],
   "source": [
    "cd F:\\Maestria\\TESIS\\"
   ]
  },
  {
   "cell_type": "code",
   "execution_count": 47,
   "metadata": {
    "colab": {
     "base_uri": "https://localhost:8080/",
     "height": 516
    },
    "id": "a09WpAxaoA51",
    "outputId": "7cd93371-bb9c-4db0-a989-9f45f89dcac4"
   },
   "outputs": [
    {
     "data": {
      "text/html": [
       "<div>\n",
       "<style scoped>\n",
       "    .dataframe tbody tr th:only-of-type {\n",
       "        vertical-align: middle;\n",
       "    }\n",
       "\n",
       "    .dataframe tbody tr th {\n",
       "        vertical-align: top;\n",
       "    }\n",
       "\n",
       "    .dataframe thead th {\n",
       "        text-align: right;\n",
       "    }\n",
       "</style>\n",
       "<table border=\"1\" class=\"dataframe\">\n",
       "  <thead>\n",
       "    <tr style=\"text-align: right;\">\n",
       "      <th></th>\n",
       "      <th>bias</th>\n",
       "      <th>text</th>\n",
       "      <th>count</th>\n",
       "      <th>lemmatized_text</th>\n",
       "    </tr>\n",
       "  </thead>\n",
       "  <tbody>\n",
       "    <tr>\n",
       "      <th>0</th>\n",
       "      <td>1</td>\n",
       "      <td>nowthisnews rep trey radel r fl slams obamaca...</td>\n",
       "      <td>9</td>\n",
       "      <td>nowthisnews rep trey radel r fl slam obamacare...</td>\n",
       "    </tr>\n",
       "    <tr>\n",
       "      <th>1</th>\n",
       "      <td>1</td>\n",
       "      <td>video  obamacare  full of higher costs and bro...</td>\n",
       "      <td>9</td>\n",
       "      <td>video obamacare full of higher cost and broken...</td>\n",
       "    </tr>\n",
       "    <tr>\n",
       "      <th>2</th>\n",
       "      <td>0</td>\n",
       "      <td>please join me today in remembering our fallen...</td>\n",
       "      <td>22</td>\n",
       "      <td>please join me today in remembering our fallen...</td>\n",
       "    </tr>\n",
       "    <tr>\n",
       "      <th>3</th>\n",
       "      <td>0</td>\n",
       "      <td>senatorleahy 1st step toward senate debate on...</td>\n",
       "      <td>19</td>\n",
       "      <td>senatorleahy 1st step toward senate debate on ...</td>\n",
       "    </tr>\n",
       "    <tr>\n",
       "      <th>4</th>\n",
       "      <td>1</td>\n",
       "      <td>amazon delivery drones show need to update law...</td>\n",
       "      <td>19</td>\n",
       "      <td>amazon delivery drone show need to update law ...</td>\n",
       "    </tr>\n",
       "  </tbody>\n",
       "</table>\n",
       "</div>"
      ],
      "text/plain": [
       "   bias                                               text  count  \\\n",
       "0     1   nowthisnews rep trey radel r fl slams obamaca...      9   \n",
       "1     1  video  obamacare  full of higher costs and bro...      9   \n",
       "2     0  please join me today in remembering our fallen...     22   \n",
       "3     0   senatorleahy 1st step toward senate debate on...     19   \n",
       "4     1  amazon delivery drones show need to update law...     19   \n",
       "\n",
       "                                     lemmatized_text  \n",
       "0  nowthisnews rep trey radel r fl slam obamacare...  \n",
       "1  video obamacare full of higher cost and broken...  \n",
       "2  please join me today in remembering our fallen...  \n",
       "3  senatorleahy 1st step toward senate debate on ...  \n",
       "4  amazon delivery drone show need to update law ...  "
      ]
     },
     "execution_count": 47,
     "metadata": {},
     "output_type": "execute_result"
    }
   ],
   "source": [
    "df= pd.read_csv('./BD_POL/cleansed_df.csv', encoding='iso-8859-1')\n",
    "df.head()"
   ]
  },
  {
   "cell_type": "code",
   "execution_count": 48,
   "metadata": {},
   "outputs": [
    {
     "data": {
      "text/plain": [
       "(4823, 4)"
      ]
     },
     "execution_count": 48,
     "metadata": {},
     "output_type": "execute_result"
    }
   ],
   "source": [
    "df.shape"
   ]
  },
  {
   "cell_type": "code",
   "execution_count": 49,
   "metadata": {},
   "outputs": [
    {
     "data": {
      "text/html": [
       "<div>\n",
       "<style scoped>\n",
       "    .dataframe tbody tr th:only-of-type {\n",
       "        vertical-align: middle;\n",
       "    }\n",
       "\n",
       "    .dataframe tbody tr th {\n",
       "        vertical-align: top;\n",
       "    }\n",
       "\n",
       "    .dataframe thead th {\n",
       "        text-align: right;\n",
       "    }\n",
       "</style>\n",
       "<table border=\"1\" class=\"dataframe\">\n",
       "  <thead>\n",
       "    <tr style=\"text-align: right;\">\n",
       "      <th></th>\n",
       "      <th>bias</th>\n",
       "      <th>text</th>\n",
       "      <th>count</th>\n",
       "      <th>lemmatized_text</th>\n",
       "    </tr>\n",
       "  </thead>\n",
       "  <tbody>\n",
       "    <tr>\n",
       "      <th>0</th>\n",
       "      <td>1</td>\n",
       "      <td>nowthisnews rep trey radel r fl slams obamaca...</td>\n",
       "      <td>9</td>\n",
       "      <td>nowthisnews rep trey radel r fl slam obamacare...</td>\n",
       "    </tr>\n",
       "    <tr>\n",
       "      <th>1</th>\n",
       "      <td>1</td>\n",
       "      <td>video  obamacare  full of higher costs and bro...</td>\n",
       "      <td>9</td>\n",
       "      <td>video obamacare full of higher cost and broken...</td>\n",
       "    </tr>\n",
       "  </tbody>\n",
       "</table>\n",
       "</div>"
      ],
      "text/plain": [
       "   bias                                               text  count  \\\n",
       "0     1   nowthisnews rep trey radel r fl slams obamaca...      9   \n",
       "1     1  video  obamacare  full of higher costs and bro...      9   \n",
       "\n",
       "                                     lemmatized_text  \n",
       "0  nowthisnews rep trey radel r fl slam obamacare...  \n",
       "1  video obamacare full of higher cost and broken...  "
      ]
     },
     "execution_count": 49,
     "metadata": {},
     "output_type": "execute_result"
    }
   ],
   "source": [
    "df.head(2)"
   ]
  },
  {
   "cell_type": "markdown",
   "metadata": {
    "id": "kagh9XKwbb_b"
   },
   "source": [
    "#### Reducimos un poco la clase mayoritaria"
   ]
  },
  {
   "cell_type": "code",
   "execution_count": 50,
   "metadata": {
    "colab": {
     "base_uri": "https://localhost:8080/"
    },
    "id": "365iV8pIbblH",
    "outputId": "d0117ded-de9d-46c8-9a94-bd6090211ff7"
   },
   "outputs": [],
   "source": [
    "# df_w.sort_values(\"bias\", inplace=True)\n",
    "# df_w = df_w.reset_index(drop=True)"
   ]
  },
  {
   "cell_type": "code",
   "execution_count": 51,
   "metadata": {
    "id": "PDn3oxlybnqg"
   },
   "outputs": [],
   "source": [
    "### Dropeamos varias ROWS con CLASE = NEUTRA, para emparejar\n",
    "# df_w = df_w.iloc[500:,:]"
   ]
  },
  {
   "cell_type": "code",
   "execution_count": 52,
   "metadata": {
    "colab": {
     "base_uri": "https://localhost:8080/",
     "height": 524
    },
    "id": "x4MO6xG0bnny",
    "outputId": "70c6d119-cf60-4d53-a6ae-2ce7955a1b9e"
   },
   "outputs": [],
   "source": [
    "# plt.figure(figsize= (8, 8))\n",
    "\n",
    "# sns.displot(df_w['bias'])\n",
    "# #df_w.bias.value_counts().plot(kind='pie', figsize=(5,5))\n",
    "# plt.show()"
   ]
  },
  {
   "cell_type": "markdown",
   "metadata": {
    "id": "7jXMlJoHed-C"
   },
   "source": [
    "Ahora son menos, y las clases son más parejas"
   ]
  },
  {
   "cell_type": "code",
   "execution_count": 53,
   "metadata": {},
   "outputs": [],
   "source": [
    "# SHUFFLING el dataset\n",
    "df_w = df.sample(frac=1, random_state = 1).reset_index(drop=True)"
   ]
  },
  {
   "cell_type": "code",
   "execution_count": 54,
   "metadata": {},
   "outputs": [],
   "source": [
    "df_w = df_w[[\"lemmatized_text\",\"bias\",\"count\"]]"
   ]
  },
  {
   "cell_type": "code",
   "execution_count": 55,
   "metadata": {
    "colab": {
     "base_uri": "https://localhost:8080/",
     "height": 206
    },
    "id": "U69JNjYzd4xh",
    "outputId": "23897425-bb70-4239-d7e0-bdba693b4a94"
   },
   "outputs": [
    {
     "data": {
      "text/html": [
       "<div>\n",
       "<style scoped>\n",
       "    .dataframe tbody tr th:only-of-type {\n",
       "        vertical-align: middle;\n",
       "    }\n",
       "\n",
       "    .dataframe tbody tr th {\n",
       "        vertical-align: top;\n",
       "    }\n",
       "\n",
       "    .dataframe thead th {\n",
       "        text-align: right;\n",
       "    }\n",
       "</style>\n",
       "<table border=\"1\" class=\"dataframe\">\n",
       "  <thead>\n",
       "    <tr style=\"text-align: right;\">\n",
       "      <th></th>\n",
       "      <th>lemmatized_text</th>\n",
       "      <th>bias</th>\n",
       "      <th>count</th>\n",
       "    </tr>\n",
       "  </thead>\n",
       "  <tbody>\n",
       "    <tr>\n",
       "      <th>4818</th>\n",
       "      <td>hope yall will join me tonight a we discus the...</td>\n",
       "      <td>0</td>\n",
       "      <td>47</td>\n",
       "    </tr>\n",
       "    <tr>\n",
       "      <th>4819</th>\n",
       "      <td>it is unacceptable that we have 4 million jobl...</td>\n",
       "      <td>1</td>\n",
       "      <td>22</td>\n",
       "    </tr>\n",
       "    <tr>\n",
       "      <th>4820</th>\n",
       "      <td>small nonfarm business in 43 colorado county a...</td>\n",
       "      <td>1</td>\n",
       "      <td>16</td>\n",
       "    </tr>\n",
       "    <tr>\n",
       "      <th>4821</th>\n",
       "      <td>met with egyptian ambassador to the u mohamed ...</td>\n",
       "      <td>0</td>\n",
       "      <td>22</td>\n",
       "    </tr>\n",
       "    <tr>\n",
       "      <th>4822</th>\n",
       "      <td>a great lunch at hotel congress in tucson one ...</td>\n",
       "      <td>0</td>\n",
       "      <td>16</td>\n",
       "    </tr>\n",
       "  </tbody>\n",
       "</table>\n",
       "</div>"
      ],
      "text/plain": [
       "                                        lemmatized_text  bias  count\n",
       "4818  hope yall will join me tonight a we discus the...     0     47\n",
       "4819  it is unacceptable that we have 4 million jobl...     1     22\n",
       "4820  small nonfarm business in 43 colorado county a...     1     16\n",
       "4821  met with egyptian ambassador to the u mohamed ...     0     22\n",
       "4822  a great lunch at hotel congress in tucson one ...     0     16"
      ]
     },
     "execution_count": 55,
     "metadata": {},
     "output_type": "execute_result"
    }
   ],
   "source": [
    "df_w.tail()"
   ]
  },
  {
   "cell_type": "code",
   "execution_count": 56,
   "metadata": {},
   "outputs": [
    {
     "data": {
      "text/html": [
       "<div>\n",
       "<style scoped>\n",
       "    .dataframe tbody tr th:only-of-type {\n",
       "        vertical-align: middle;\n",
       "    }\n",
       "\n",
       "    .dataframe tbody tr th {\n",
       "        vertical-align: top;\n",
       "    }\n",
       "\n",
       "    .dataframe thead th {\n",
       "        text-align: right;\n",
       "    }\n",
       "</style>\n",
       "<table border=\"1\" class=\"dataframe\">\n",
       "  <thead>\n",
       "    <tr style=\"text-align: right;\">\n",
       "      <th></th>\n",
       "      <th>bias</th>\n",
       "      <th>count</th>\n",
       "    </tr>\n",
       "  </thead>\n",
       "  <tbody>\n",
       "    <tr>\n",
       "      <th>count</th>\n",
       "      <td>4823.000000</td>\n",
       "      <td>4823.000000</td>\n",
       "    </tr>\n",
       "    <tr>\n",
       "      <th>mean</th>\n",
       "      <td>0.260211</td>\n",
       "      <td>26.971180</td>\n",
       "    </tr>\n",
       "    <tr>\n",
       "      <th>std</th>\n",
       "      <td>0.438795</td>\n",
       "      <td>20.989031</td>\n",
       "    </tr>\n",
       "    <tr>\n",
       "      <th>min</th>\n",
       "      <td>0.000000</td>\n",
       "      <td>3.000000</td>\n",
       "    </tr>\n",
       "    <tr>\n",
       "      <th>25%</th>\n",
       "      <td>0.000000</td>\n",
       "      <td>15.000000</td>\n",
       "    </tr>\n",
       "    <tr>\n",
       "      <th>50%</th>\n",
       "      <td>0.000000</td>\n",
       "      <td>19.000000</td>\n",
       "    </tr>\n",
       "    <tr>\n",
       "      <th>75%</th>\n",
       "      <td>1.000000</td>\n",
       "      <td>30.000000</td>\n",
       "    </tr>\n",
       "    <tr>\n",
       "      <th>max</th>\n",
       "      <td>1.000000</td>\n",
       "      <td>125.000000</td>\n",
       "    </tr>\n",
       "  </tbody>\n",
       "</table>\n",
       "</div>"
      ],
      "text/plain": [
       "              bias        count\n",
       "count  4823.000000  4823.000000\n",
       "mean      0.260211    26.971180\n",
       "std       0.438795    20.989031\n",
       "min       0.000000     3.000000\n",
       "25%       0.000000    15.000000\n",
       "50%       0.000000    19.000000\n",
       "75%       1.000000    30.000000\n",
       "max       1.000000   125.000000"
      ]
     },
     "execution_count": 56,
     "metadata": {},
     "output_type": "execute_result"
    }
   ],
   "source": [
    "df_w.describe()"
   ]
  },
  {
   "cell_type": "code",
   "execution_count": 57,
   "metadata": {},
   "outputs": [
    {
     "data": {
      "text/plain": [
       "lemmatized_text    object\n",
       "bias                int64\n",
       "count               int64\n",
       "dtype: object"
      ]
     },
     "execution_count": 57,
     "metadata": {},
     "output_type": "execute_result"
    }
   ],
   "source": [
    "df_w.dtypes"
   ]
  },
  {
   "cell_type": "code",
   "execution_count": 58,
   "metadata": {},
   "outputs": [],
   "source": [
    "## Botamos las rows que tengan demasiadas palabras que llenan la memoria.\n",
    "# df_w.drop(df_w[(df_w['count'] >100)].index, inplace=True)"
   ]
  },
  {
   "cell_type": "code",
   "execution_count": 59,
   "metadata": {},
   "outputs": [],
   "source": [
    "# df_w.describe()"
   ]
  },
  {
   "cell_type": "code",
   "execution_count": 60,
   "metadata": {},
   "outputs": [
    {
     "data": {
      "text/plain": [
       "<seaborn.axisgrid.FacetGrid at 0x17411ed74a8>"
      ]
     },
     "execution_count": 60,
     "metadata": {},
     "output_type": "execute_result"
    },
    {
     "data": {
      "image/png": "[encoded data removed]",
      "text/plain": [
       "<Figure size 360x360 with 1 Axes>"
      ]
     },
     "metadata": {
      "needs_background": "light"
     },
     "output_type": "display_data"
    }
   ],
   "source": [
    "sns.displot(df_w['count'])"
   ]
  },
  {
   "cell_type": "markdown",
   "metadata": {},
   "source": [
    "### Transformamos a listas para tokenizar"
   ]
  },
  {
   "cell_type": "code",
   "execution_count": 61,
   "metadata": {
    "id": "0CgnFVJToBG-"
   },
   "outputs": [],
   "source": [
    "data_texts = df_w['lemmatized_text'].to_list()\n",
    "\n",
    "data_labels = df_w['bias'].to_list()"
   ]
  },
  {
   "cell_type": "code",
   "execution_count": 62,
   "metadata": {
    "colab": {
     "base_uri": "https://localhost:8080/"
    },
    "id": "i4iD_5V8fyJY",
    "outputId": "87dbe4f1-6a5a-4fe0-f839-40035ffb6ef2"
   },
   "outputs": [
    {
     "data": {
      "text/plain": [
       "4823"
      ]
     },
     "execution_count": 62,
     "metadata": {},
     "output_type": "execute_result"
    }
   ],
   "source": [
    "len(data_labels)"
   ]
  },
  {
   "cell_type": "code",
   "execution_count": 63,
   "metadata": {},
   "outputs": [
    {
     "data": {
      "text/plain": [
       "(4823, 3)"
      ]
     },
     "execution_count": 63,
     "metadata": {},
     "output_type": "execute_result"
    }
   ],
   "source": [
    "df_w.shape"
   ]
  },
  {
   "cell_type": "markdown",
   "metadata": {
    "id": "7_7Fu6fM0GVl"
   },
   "source": [
    "### Train Test Split"
   ]
  },
  {
   "cell_type": "code",
   "execution_count": 64,
   "metadata": {
    "id": "xLTvyLEsoBJJ"
   },
   "outputs": [],
   "source": [
    "train_texts, val_texts, train_labels, val_labels = train_test_split(data_texts,\n",
    "                                                                    data_labels,\n",
    "                                                                    test_size = 0.2,\n",
    "                                                                    #random_state = 0, ) ## Shuffle\n",
    "                                                                    stratify = data_labels)\n",
    "\n",
    "val_texts, test_texts, val_labels, test_labels = train_test_split(val_texts,\n",
    "                                                                  val_labels,\n",
    "                                                                  test_size = 0.4,\n",
    "                                                                  #random_state = 0, ) ## Shuffle del dS\n",
    "                                                                  stratify = val_labels )"
   ]
  },
  {
   "cell_type": "code",
   "execution_count": null,
   "metadata": {},
   "outputs": [],
   "source": []
  },
  {
   "cell_type": "markdown",
   "metadata": {
    "id": "6YJpOu3F5fHl"
   },
   "source": [
    "## TOKENIZAR"
   ]
  },
  {
   "cell_type": "code",
   "execution_count": 65,
   "metadata": {
    "colab": {
     "base_uri": "https://localhost:8080/",
     "height": 202,
     "referenced_widgets": [
      "17926179392c49978cfec07265e612a0",
      "cf46ba0e95b84a4eb0d813340281e6f3",
      "10b5045df5e94bd09ff1092c5aef036b",
      "a26f08cecf574f379ffea0990182f24c",
      "a76bd2bdc5254564a612f005fc34d8ae",
      "a3169629a9534c48b5cd71760803033f",
      "a674c82159dd41f1995a83992eb2cdce",
      "6d278989d3ca497aaafe729220f579dd",
      "2c2038b0693a478da44097f22388e65e",
      "8c450fa0d9294bc6a9677a525d12ebad",
      "bd2f4df3b4bb4b32a3e45af216d0ed9e",
      "5bb98acaa063414591f9aa663994c8a8",
      "9cfce067eaea400a9b08b0dc718e07dc",
      "29999d04b5374974a6191fc8c28bd0b4",
      "2b6dfef429a543589fb500770374b03e",
      "a9bbece72980493b8b8b21bd06146aed",
      "6f88550daf5243e09e7dce815add7354",
      "597a711ee30549bea0ca42dbfa21b69d",
      "8d840491938f4fc69ad2fc0987ed8c97",
      "9880b565a65b40f3810867645ca33dae",
      "ddc3d32f109d45629614a766f4690ec8",
      "ed4e227dd6d64721a48409230646af59",
      "8b5fa3cb22a44ab0924d2a882eade826",
      "a8a4c4a5547842e68ffa7bbd7ec09f54",
      "52d37b981082408d908f0466a8a13ad9",
      "46b5a81f8fff496387abfd79280981d5",
      "af40263a965246028527a913c3f4cb8c",
      "39d37ee9f2a648c687e1cf5781e94ca0",
      "14897a3cd6074089b50ec9f4d1d22d1a",
      "02f842a11f9e41e5935fbc2f59d29ec7",
      "bc786bae97d04bceb72420bc31e6a075",
      "db5ac35ec4fd40ca821e96bee7578b63",
      "490cb484353741909ed4dde647594179"
     ]
    },
    "id": "oJ5G7jZEoBLZ",
    "outputId": "11cd1696-a5e9-4ce5-aa3b-fb18f068f38c"
   },
   "outputs": [
    {
     "name": "stderr",
     "output_type": "stream",
     "text": [
      "loading file https://huggingface.co/distilbert-base-uncased/resolve/main/vocab.txt from cache at C:\\Users\\CLIENTE/.cache\\huggingface\\transformers\\0e1bbfda7f63a99bb52e3915dcf10c3c92122b827d92eb2d34ce94ee79ba486c.d789d64ebfe299b0e416afc4a169632f903f693095b4629a7ea271d5a0cf2c99\n",
      "loading file https://huggingface.co/distilbert-base-uncased/resolve/main/added_tokens.json from cache at None\n",
      "loading file https://huggingface.co/distilbert-base-uncased/resolve/main/special_tokens_map.json from cache at None\n",
      "loading file https://huggingface.co/distilbert-base-uncased/resolve/main/tokenizer_config.json from cache at C:\\Users\\CLIENTE/.cache\\huggingface\\transformers\\8c8624b8ac8aa99c60c912161f8332de003484428c47906d7ff7eb7f73eecdbb.76ea01b4b85ac16e2cec55c398cba7a943d89ab21dfdd973f6630a152e4b9aed\n",
      "loading file https://huggingface.co/distilbert-base-uncased/resolve/main/tokenizer.json from cache at C:\\Users\\CLIENTE/.cache\\huggingface\\transformers\\75abb59d7a06f4f640158a9bfcde005264e59e8d566781ab1415b139d2e4c603.7f2721073f19841be16f41b0a70b600ca6b880c8f3df6f3535cbc704371bdfa4\n"
     ]
    }
   ],
   "source": [
    "## Usamos DISTILBERT para tokenizar el DS\n",
    "tokenizer = DistilBertTokenizer.from_pretrained('distilbert-base-uncased')\n",
    "\n",
    "## Tokenizamos los Datasets\n",
    "train_encodings = tokenizer(train_texts, truncation = True, padding = True  )\n",
    "\n",
    "val_encodings = tokenizer(val_texts, truncation = True, padding = True )\n",
    "\n",
    "test_encodings = tokenizer(test_texts, truncation = True, padding = True )"
   ]
  },
  {
   "cell_type": "markdown",
   "metadata": {},
   "source": [
    "#### Convertimos a tensores"
   ]
  },
  {
   "cell_type": "code",
   "execution_count": 66,
   "metadata": {
    "id": "dANwCUmPoBNU"
   },
   "outputs": [],
   "source": [
    "train_dataset = tf.data.Dataset.from_tensor_slices((\n",
    "    dict(train_encodings),\n",
    "    train_labels\n",
    "))\n",
    "\n",
    "val_dataset = tf.data.Dataset.from_tensor_slices((\n",
    "    dict(val_encodings),\n",
    "    val_labels\n",
    "))\n",
    "\n",
    "test_dataset = tf.data.Dataset.from_tensor_slices((\n",
    "    dict(test_encodings),\n",
    "    test_labels\n",
    "))"
   ]
  },
  {
   "cell_type": "markdown",
   "metadata": {
    "id": "6c4dtW_16VDd"
   },
   "source": [
    "### Hacemos el Fine-tuning con el TFTrainer class"
   ]
  },
  {
   "cell_type": "code",
   "execution_count": 67,
   "metadata": {
    "id": "osCwf7stRoS7"
   },
   "outputs": [],
   "source": [
    "from transformers import TFTrainer, TFTrainingArguments"
   ]
  },
  {
   "cell_type": "markdown",
   "metadata": {
    "id": "SzuekXIR3xSx"
   },
   "source": [
    "https://discuss.huggingface.co/t/import-error-while-loading-a-fine-tuned-distilbert-model/28615"
   ]
  },
  {
   "cell_type": "markdown",
   "metadata": {
    "id": "qOxLt4LCe6Or"
   },
   "source": [
    "### Argumentos del TRAINING"
   ]
  },
  {
   "cell_type": "code",
   "execution_count": 68,
   "metadata": {
    "id": "wULXnBkc6Xbe"
   },
   "outputs": [
    {
     "name": "stderr",
     "output_type": "stream",
     "text": [
      "The default value for the training argument `--report_to` will change in v5 (from all installed integrations to none). In v5, you will need to use `--report_to all` to get the same behavior as now. You should start updating your code and make this info disappear :-).\n"
     ]
    }
   ],
   "source": [
    "\n",
    "training_args = TFTrainingArguments(\n",
    "    output_dir='./results',\n",
    "    num_train_epochs=7,\n",
    "    max_steps = 400,  # --- > Si no colocamos 400 steps, da error con el \"lr_scheduler\"\n",
    "    per_device_train_batch_size=16,\n",
    "    per_device_eval_batch_size=32,\n",
    "    warmup_steps=50,\n",
    "    weight_decay=1e-4,\n",
    "    logging_dir='./logs',\n",
    "    eval_steps=25, \n",
    "    learning_rate = 0.005,\n",
    "    lr_scheduler_type = \"constant_with_warmup\",\n",
    "    #no_cuda = False\n",
    ")\n",
    "\n",
    "# max_steps = 500, Da error"
   ]
  },
  {
   "cell_type": "code",
   "execution_count": 69,
   "metadata": {},
   "outputs": [
    {
     "data": {
      "text/plain": [
       "<property at 0x174123e5818>"
      ]
     },
     "execution_count": 69,
     "metadata": {},
     "output_type": "execute_result"
    }
   ],
   "source": [
    "transformers.TFTrainingArguments.device"
   ]
  },
  {
   "cell_type": "code",
   "execution_count": 70,
   "metadata": {},
   "outputs": [],
   "source": [
    "import tensorflow as tf\n",
    "from tensorflow.compat.v1 import RunOptions\n",
    "\n",
    "run_options = RunOptions(report_tensor_allocations_upon_oom=True)"
   ]
  },
  {
   "cell_type": "code",
   "execution_count": 71,
   "metadata": {
    "colab": {
     "base_uri": "https://localhost:8080/"
    },
    "id": "OCMp01Gwe_FL",
    "outputId": "a888f800-102a-4ca0-92ce-7337d05215f6"
   },
   "outputs": [
    {
     "name": "stderr",
     "output_type": "stream",
     "text": [
      "Tensorflow: setting up strategy\n",
      "loading configuration file https://huggingface.co/distilbert-base-uncased/resolve/main/config.json from cache at C:\\Users\\CLIENTE/.cache\\huggingface\\transformers\\23454919702d26495337f3da04d1655c7ee010d5ec9d77bdb9e399e00302c0a1.91b885ab15d631bf9cee9dc9d25ece0afd932f2f5130eba28f2055b2220c0333\n",
      "Model config DistilBertConfig {\n",
      "  \"activation\": \"gelu\",\n",
      "  \"architectures\": [\n",
      "    \"DistilBertForMaskedLM\"\n",
      "  ],\n",
      "  \"attention_dropout\": 0.1,\n",
      "  \"dim\": 768,\n",
      "  \"dropout\": 0.1,\n",
      "  \"hidden_dim\": 3072,\n",
      "  \"initializer_range\": 0.02,\n",
      "  \"max_position_embeddings\": 512,\n",
      "  \"model_type\": \"distilbert\",\n",
      "  \"n_heads\": 12,\n",
      "  \"n_layers\": 6,\n",
      "  \"pad_token_id\": 0,\n",
      "  \"qa_dropout\": 0.1,\n",
      "  \"seq_classif_dropout\": 0.2,\n",
      "  \"sinusoidal_pos_embds\": false,\n",
      "  \"tie_weights_\": true,\n",
      "  \"transformers_version\": \"4.5.1\",\n",
      "  \"vocab_size\": 30522\n",
      "}\n",
      "\n",
      "loading weights file https://huggingface.co/distilbert-base-uncased/resolve/main/tf_model.h5 from cache at C:\\Users\\CLIENTE/.cache\\huggingface\\transformers\\fa107dc22c014df078a1b75235144a927f7e9764916222711f239b7ee6092ec9.bc4b731be56d8422e12b1d5bfa86fbd81d18d2770da1f5ac4f33640a17b7dde9.h5\n",
      "Some layers from the model checkpoint at distilbert-base-uncased were not used when initializing TFDistilBertForSequenceClassification: ['activation_13', 'vocab_transform', 'vocab_projector', 'vocab_layer_norm']\n",
      "- This IS expected if you are initializing TFDistilBertForSequenceClassification from the checkpoint of a model trained on another task or with another architecture (e.g. initializing a BertForSequenceClassification model from a BertForPreTraining model).\n",
      "- This IS NOT expected if you are initializing TFDistilBertForSequenceClassification from the checkpoint of a model that you expect to be exactly identical (initializing a BertForSequenceClassification model from a BertForSequenceClassification model).\n",
      "Some layers of TFDistilBertForSequenceClassification were not initialized from the model checkpoint at distilbert-base-uncased and are newly initialized: ['classifier', 'dropout_39', 'pre_classifier']\n",
      "You should probably TRAIN this model on a down-stream task to be able to use it for predictions and inference.\n"
     ]
    }
   ],
   "source": [
    "with training_args.strategy.scope():\n",
    "    trainer_model = TFDistilBertForSequenceClassification.from_pretrained('distilbert-base-uncased',\n",
    "                                                                          num_labels = 2 )\n",
    "    #trainer_model.compile(loss = \"...\", optimizer = \"...\", metrics = \"..\", options = run_opts)"
   ]
  },
  {
   "cell_type": "code",
   "execution_count": 72,
   "metadata": {
    "colab": {
     "base_uri": "https://localhost:8080/",
     "height": 297
    },
    "id": "y156EOP0fCEA",
    "outputId": "f4c84511-b58f-4f2c-b044-6aac4aa49f3a"
   },
   "outputs": [
    {
     "name": "stderr",
     "output_type": "stream",
     "text": [
      "You are instantiating a Trainer but W&B is not installed. To use wandb logging, run `pip install wandb; wandb login` see https://docs.wandb.com/huggingface.\n",
      "To use comet_ml logging, run `pip/conda install comet_ml` see https://www.comet.ml/docs/python-sdk/huggingface/\n"
     ]
    }
   ],
   "source": [
    "trainer = TFTrainer(\n",
    "    model=trainer_model,\n",
    "    args=training_args,\n",
    "    train_dataset=train_dataset,\n",
    "    eval_dataset=val_dataset,    \n",
    ")"
   ]
  },
  {
   "cell_type": "code",
   "execution_count": 73,
   "metadata": {
    "id": "ZAjdGc5IfERc"
   },
   "outputs": [],
   "source": [
    "trainer.optimizer = tf.keras.optimizers.SGD()"
   ]
  },
  {
   "cell_type": "code",
   "execution_count": 74,
   "metadata": {},
   "outputs": [
    {
     "name": "stderr",
     "output_type": "stream",
     "text": [
      "INFO\n",
      "WARN\n"
     ]
    }
   ],
   "source": [
    "logging.set_verbosity_info()\n",
    "logger = logging.get_logger(\"transformers\")\n",
    "logger.info(\"INFO\")\n",
    "logger.warning(\"WARN\")"
   ]
  },
  {
   "cell_type": "markdown",
   "metadata": {},
   "source": [
    "### ENTRENAR"
   ]
  },
  {
   "cell_type": "code",
   "execution_count": 75,
   "metadata": {
    "id": "tD-HyThj6XY-",
    "scrolled": true
   },
   "outputs": [
    {
     "name": "stderr",
     "output_type": "stream",
     "text": [
      "***** Running training *****\n",
      "  Num examples = 3858\n",
      "  Num Epochs = 2.0\n",
      "  Instantaneous batch size per device = 16\n",
      "  Total train batch size (w. parallel, distributed & accumulation) = 16\n",
      "  Gradient Accumulation steps = 1\n",
      "  Steps per epoch = 242\n",
      "  Total optimization steps = 400\n"
     ]
    },
    {
     "name": "stdout",
     "output_type": "stream",
     "text": [
      "WARNING:tensorflow:The parameters `output_attentions`, `output_hidden_states` and `use_cache` cannot be updated when calling a model.They have to be set to True/False in the config object (i.e.: `config=XConfig.from_pretrained('name', output_attentions=True)`).\n",
      "WARNING:tensorflow:The parameter `return_dict` cannot be set in graph mode and will always be set to `True`.\n",
      "WARNING:tensorflow:The parameters `output_attentions`, `output_hidden_states` and `use_cache` cannot be updated when calling a model.They have to be set to True/False in the config object (i.e.: `config=XConfig.from_pretrained('name', output_attentions=True)`).\n",
      "WARNING:tensorflow:The parameter `return_dict` cannot be set in graph mode and will always be set to `True`.\n"
     ]
    },
    {
     "name": "stderr",
     "output_type": "stream",
     "text": [
      "Training took: 0:00:34.499410\n"
     ]
    }
   ],
   "source": [
    "trainer.train()\n",
    "\n",
    "# Toma 3 min 36 secs hacer el training\n",
    "# Toma 40sec con el GPU 4070super\n",
    "## SI ESTA USANDO EL GPU"
   ]
  },
  {
   "cell_type": "code",
   "execution_count": 76,
   "metadata": {
    "colab": {
     "base_uri": "https://localhost:8080/"
    },
    "id": "W3HbzYqE6XVF",
    "outputId": "c48a337e-194b-48bc-d8b2-314d1a4dda11"
   },
   "outputs": [
    {
     "name": "stderr",
     "output_type": "stream",
     "text": [
      "***** Running Evaluation *****\n",
      "  Num examples in dataset = 579\n",
      "  Num examples in used in evaluation = 608\n",
      "  Batch size = 32\n"
     ]
    },
    {
     "name": "stdout",
     "output_type": "stream",
     "text": [
      "WARNING:tensorflow:The parameters `output_attentions`, `output_hidden_states` and `use_cache` cannot be updated when calling a model.They have to be set to True/False in the config object (i.e.: `config=XConfig.from_pretrained('name', output_attentions=True)`).\n",
      "WARNING:tensorflow:The parameter `return_dict` cannot be set in graph mode and will always be set to `True`.\n"
     ]
    },
    {
     "name": "stderr",
     "output_type": "stream",
     "text": [
      "{'eval_loss': 0.41515761927554484, 'epoch': 1.6528925619834711, 'step': 400}\n"
     ]
    },
    {
     "data": {
      "text/plain": [
       "{'eval_loss': 0.41515761927554484}"
      ]
     },
     "execution_count": 76,
     "metadata": {},
     "output_type": "execute_result"
    }
   ],
   "source": [
    "# Evaluamos\n",
    "# Eval_loss sale bastante grande\n",
    "trainer.evaluate()"
   ]
  },
  {
   "cell_type": "code",
   "execution_count": 77,
   "metadata": {},
   "outputs": [
    {
     "name": "stderr",
     "output_type": "stream",
     "text": [
      "***** Running Prediction *****\n",
      "  Num examples in dataset = 386\n",
      "  Batch size = 32\n"
     ]
    },
    {
     "name": "stdout",
     "output_type": "stream",
     "text": [
      "WARNING:tensorflow:The parameters `output_attentions`, `output_hidden_states` and `use_cache` cannot be updated when calling a model.They have to be set to True/False in the config object (i.e.: `config=XConfig.from_pretrained('name', output_attentions=True)`).\n",
      "WARNING:tensorflow:The parameter `return_dict` cannot be set in graph mode and will always be set to `True`.\n",
      "WARNING:tensorflow:The parameters `output_attentions`, `output_hidden_states` and `use_cache` cannot be updated when calling a model.They have to be set to True/False in the config object (i.e.: `config=XConfig.from_pretrained('name', output_attentions=True)`).\n",
      "WARNING:tensorflow:The parameter `return_dict` cannot be set in graph mode and will always be set to `True`.\n"
     ]
    },
    {
     "data": {
      "text/plain": [
       "PredictionOutput(predictions=array([[-0.1819347 ,  0.30811238],\n",
       "       [-0.10774019,  0.29780862],\n",
       "       [ 0.8244981 , -0.890223  ],\n",
       "       [ 1.2265089 , -1.397812  ],\n",
       "       [ 1.4130007 , -1.6571804 ],\n",
       "       [ 0.54375833, -0.62150365],\n",
       "       [ 0.9880867 , -1.1148845 ],\n",
       "       [ 1.5664463 , -1.8046014 ],\n",
       "       [ 0.9711989 , -1.1744199 ],\n",
       "       [ 0.91022485, -1.0511023 ],\n",
       "       [ 0.7842584 , -0.8531886 ],\n",
       "       [ 1.5253234 , -1.7604742 ],\n",
       "       [ 0.65812254, -0.72661394],\n",
       "       [-0.27595904,  0.45868966],\n",
       "       [ 0.828103  , -0.9215972 ],\n",
       "       [ 1.521909  , -1.7506713 ],\n",
       "       [ 0.6669788 , -0.6922987 ],\n",
       "       [-0.14454144,  0.24864744],\n",
       "       [ 1.4602367 , -1.601759  ],\n",
       "       [ 1.2034502 , -1.3062446 ],\n",
       "       [ 0.52004373, -0.49782884],\n",
       "       [-0.35383174,  0.60779464],\n",
       "       [ 1.1783348 , -1.2977145 ],\n",
       "       [ 0.42609042, -0.39385903],\n",
       "       [ 0.7542749 , -0.86666644],\n",
       "       [ 1.3934033 , -1.4972862 ],\n",
       "       [-0.10699167,  0.23319636],\n",
       "       [-0.36758032,  0.52837354],\n",
       "       [ 1.4775884 , -1.7691061 ],\n",
       "       [-0.13833009,  0.2598745 ],\n",
       "       [ 0.9824593 , -1.2338766 ],\n",
       "       [-0.35251415,  0.5244373 ],\n",
       "       [ 1.0156119 , -1.1070862 ],\n",
       "       [ 1.3458637 , -1.5157624 ],\n",
       "       [-0.00542891,  0.16857524],\n",
       "       [-0.08225328,  0.14051093],\n",
       "       [ 1.0604626 , -1.1884059 ],\n",
       "       [-0.2900852 ,  0.43660685],\n",
       "       [ 1.1784377 , -1.3195958 ],\n",
       "       [-0.15128413,  0.28928536],\n",
       "       [ 1.4833266 , -1.7040806 ],\n",
       "       [ 1.2839649 , -1.4116333 ],\n",
       "       [-0.0482561 ,  0.14949118],\n",
       "       [ 0.64721936, -0.7281636 ],\n",
       "       [ 1.4850383 , -1.7973137 ],\n",
       "       [-0.15173523,  0.36824962],\n",
       "       [ 1.3010812 , -1.3350829 ],\n",
       "       [-0.18690139,  0.33560914],\n",
       "       [ 1.5934057 , -1.7476585 ],\n",
       "       [ 1.4146838 , -1.6117414 ],\n",
       "       [-0.03991533,  0.16209985],\n",
       "       [ 1.3762789 , -1.5700281 ],\n",
       "       [ 0.84045684, -1.0709727 ],\n",
       "       [-0.24574207,  0.4286862 ],\n",
       "       [ 1.1453732 , -1.2209275 ],\n",
       "       [ 0.47951943, -0.466592  ],\n",
       "       [-0.3044326 ,  0.5075728 ],\n",
       "       [-0.28265032,  0.35721827],\n",
       "       [-0.11760687,  0.16480286],\n",
       "       [-0.3077127 ,  0.388486  ],\n",
       "       [ 1.3234065 , -1.4866896 ],\n",
       "       [ 1.5280687 , -1.733606  ],\n",
       "       [ 1.3162676 , -1.4975897 ],\n",
       "       [ 1.516678  , -1.6859436 ],\n",
       "       [ 1.4189711 , -1.7303687 ],\n",
       "       [-0.30146173,  0.3858685 ],\n",
       "       [ 1.2058429 , -1.4912586 ],\n",
       "       [ 1.1602466 , -1.3919908 ],\n",
       "       [ 1.5323536 , -1.705349  ],\n",
       "       [-0.08168652,  0.21705039],\n",
       "       [-0.30207524,  0.37607303],\n",
       "       [ 0.8306169 , -0.9981679 ],\n",
       "       [ 0.84745294, -1.0268798 ],\n",
       "       [ 1.0978682 , -1.2643328 ],\n",
       "       [ 1.50778   , -1.7224832 ],\n",
       "       [ 1.4435339 , -1.6346104 ],\n",
       "       [ 1.3320059 , -1.5172539 ],\n",
       "       [ 0.0320274 ,  0.0838984 ],\n",
       "       [ 0.43789822, -0.42433617],\n",
       "       [ 0.7780249 , -0.7406265 ],\n",
       "       [ 1.3740822 , -1.5746428 ],\n",
       "       [ 0.57535017, -0.55246216],\n",
       "       [ 0.35088328, -0.3262006 ],\n",
       "       [ 1.5071646 , -1.736406  ],\n",
       "       [ 1.4243093 , -1.5790148 ],\n",
       "       [ 1.0692663 , -1.2108002 ],\n",
       "       [ 1.5617285 , -1.7306631 ],\n",
       "       [ 1.5155991 , -1.70446   ],\n",
       "       [ 0.10413072,  0.06853153],\n",
       "       [ 1.4869933 , -1.653181  ],\n",
       "       [ 0.40545467, -0.40943193],\n",
       "       [ 1.6048594 , -1.841018  ],\n",
       "       [-0.32379544,  0.4727094 ],\n",
       "       [ 1.2025173 , -1.42779   ],\n",
       "       [ 1.258134  , -1.468693  ],\n",
       "       [ 1.5197855 , -1.7015541 ],\n",
       "       [ 0.7953202 , -0.86857283],\n",
       "       [ 1.1631821 , -1.2778363 ],\n",
       "       [-0.04291933,  0.10269551],\n",
       "       [ 1.5754884 , -1.820847  ],\n",
       "       [ 1.12271   , -1.201334  ],\n",
       "       [ 0.58381563, -0.6789017 ],\n",
       "       [-0.45155457,  0.62241703],\n",
       "       [-0.05496161,  0.22278275],\n",
       "       [ 1.3873332 , -1.5198517 ],\n",
       "       [ 0.25499243, -0.19331263],\n",
       "       [ 0.7902166 , -0.9035863 ],\n",
       "       [ 1.4396122 , -1.6060379 ],\n",
       "       [-0.40606603,  0.6047845 ],\n",
       "       [ 1.0810992 , -1.185219  ],\n",
       "       [ 0.06944068,  0.02162717],\n",
       "       [ 1.46868   , -1.6592647 ],\n",
       "       [ 1.3997914 , -1.5565325 ],\n",
       "       [ 1.0837524 , -1.3035885 ],\n",
       "       [ 1.1835989 , -1.4078974 ],\n",
       "       [ 0.8928307 , -0.98450404],\n",
       "       [-0.35115165,  0.5317583 ],\n",
       "       [ 1.4388684 , -1.6743681 ],\n",
       "       [ 1.2719254 , -1.5001713 ],\n",
       "       [ 1.2902194 , -1.4525617 ],\n",
       "       [ 0.52464014, -0.5645241 ],\n",
       "       [ 0.916695  , -0.95719415],\n",
       "       [ 1.4703459 , -1.6892669 ],\n",
       "       [ 1.3950287 , -1.5859314 ],\n",
       "       [-0.33120775,  0.53488886],\n",
       "       [-0.28988   ,  0.5056372 ],\n",
       "       [ 1.5403517 , -1.869642  ],\n",
       "       [ 1.3391557 , -1.49101   ],\n",
       "       [-0.07087457,  0.18899262],\n",
       "       [ 1.5639381 , -1.8127759 ],\n",
       "       [ 1.5371137 , -1.7890576 ],\n",
       "       [-0.09757998,  0.24363892],\n",
       "       [ 1.328491  , -1.4606377 ],\n",
       "       [ 1.4939435 , -1.7564434 ],\n",
       "       [ 1.4751936 , -1.6782378 ],\n",
       "       [ 0.02370212,  0.02340957],\n",
       "       [ 0.2828225 , -0.25390214],\n",
       "       [ 1.1538615 , -1.3143731 ],\n",
       "       [-0.2212792 ,  0.3831006 ],\n",
       "       [-0.06696294,  0.13976873],\n",
       "       [ 1.1539977 , -1.3763646 ],\n",
       "       [ 0.07729113, -0.10966927],\n",
       "       [-0.38931778,  0.54158825],\n",
       "       [-0.3607367 ,  0.52063096],\n",
       "       [ 1.2748978 , -1.4840801 ],\n",
       "       [ 1.4703035 , -1.6208802 ],\n",
       "       [ 1.6017033 , -1.8213643 ],\n",
       "       [ 1.5034492 , -1.6856065 ],\n",
       "       [ 1.192997  , -1.2893058 ],\n",
       "       [ 1.4314309 , -1.6167276 ],\n",
       "       [ 1.0224526 , -1.1072904 ],\n",
       "       [-0.10039299,  0.19690458],\n",
       "       [ 1.5131907 , -1.7421988 ],\n",
       "       [ 1.4510741 , -1.5863115 ],\n",
       "       [ 1.4164877 , -1.5469985 ],\n",
       "       [-0.24803518,  0.41723242],\n",
       "       [ 1.5175126 , -1.7629982 ],\n",
       "       [ 0.38204268, -0.40550724],\n",
       "       [ 1.2876914 , -1.4792424 ],\n",
       "       [ 1.2443421 , -1.4369323 ],\n",
       "       [ 0.98027325, -1.2049156 ],\n",
       "       [ 1.5122459 , -1.7028465 ],\n",
       "       [-0.1816992 ,  0.3031816 ],\n",
       "       [-0.17298457,  0.33601227],\n",
       "       [ 1.3154297 , -1.5041668 ],\n",
       "       [ 0.03746519,  0.09162345],\n",
       "       [-0.09900258,  0.24014635],\n",
       "       [-0.26244   ,  0.4265402 ],\n",
       "       [ 1.3892102 , -1.6246022 ],\n",
       "       [-0.12297872,  0.3139726 ],\n",
       "       [ 0.43101355, -0.4197871 ],\n",
       "       [ 1.5235116 , -1.7576439 ],\n",
       "       [ 1.4963797 , -1.6677413 ],\n",
       "       [ 1.5075012 , -1.6075083 ],\n",
       "       [ 1.4602485 , -1.6059339 ],\n",
       "       [ 0.16000223,  0.00559967],\n",
       "       [ 1.4093685 , -1.5952253 ],\n",
       "       [ 0.8904641 , -0.8380483 ],\n",
       "       [ 1.438339  , -1.7329055 ],\n",
       "       [ 1.4508959 , -1.612489  ],\n",
       "       [ 1.4331148 , -1.6155108 ],\n",
       "       [ 1.4795922 , -1.6682781 ],\n",
       "       [ 0.7269723 , -0.69301414],\n",
       "       [ 0.44799817, -0.4967357 ],\n",
       "       [-0.21585236,  0.3944841 ],\n",
       "       [ 1.5122668 , -1.6890326 ],\n",
       "       [ 0.6569528 , -0.7286084 ],\n",
       "       [ 1.198661  , -1.3876634 ],\n",
       "       [ 1.1003935 , -1.2552946 ],\n",
       "       [ 1.0910592 , -1.2299685 ],\n",
       "       [ 0.691102  , -0.8258142 ],\n",
       "       [ 1.5962477 , -1.7250955 ],\n",
       "       [ 0.1108882 , -0.08023904],\n",
       "       [-0.2847397 ,  0.47241667],\n",
       "       [ 0.466572  , -0.5177982 ],\n",
       "       [ 0.9978324 , -1.2143543 ],\n",
       "       [ 1.317987  , -1.3639395 ],\n",
       "       [ 0.9483177 , -1.0999528 ],\n",
       "       [-0.21524532,  0.30973506],\n",
       "       [ 1.3588145 , -1.5232819 ],\n",
       "       [ 1.2232922 , -1.3910086 ],\n",
       "       [ 1.0192792 , -1.0758425 ],\n",
       "       [ 1.3637493 , -1.5847527 ],\n",
       "       [ 0.8824679 , -0.94114554],\n",
       "       [ 1.2245351 , -1.4197376 ],\n",
       "       [ 0.5409829 , -0.56234866],\n",
       "       [ 1.4586968 , -1.6173297 ],\n",
       "       [-0.05041404,  0.11740874],\n",
       "       [ 1.5644974 , -1.832668  ],\n",
       "       [ 1.2564212 , -1.4938673 ],\n",
       "       [-0.1343268 ,  0.29083446],\n",
       "       [ 1.5102    , -1.7176063 ],\n",
       "       [ 0.49563533, -0.45866364],\n",
       "       [-0.27359605,  0.3663925 ],\n",
       "       [ 1.1612519 , -1.3758941 ],\n",
       "       [ 1.1996574 , -1.3503039 ],\n",
       "       [ 1.4607223 , -1.764936  ],\n",
       "       [ 1.4081643 , -1.6280828 ],\n",
       "       [-0.13041729,  0.13627219],\n",
       "       [ 1.383401  , -1.576394  ],\n",
       "       [ 1.3845342 , -1.4905972 ],\n",
       "       [ 1.2024091 , -1.4329269 ],\n",
       "       [ 0.9671879 , -1.0585846 ],\n",
       "       [-0.15721482,  0.23646788],\n",
       "       [ 0.5591496 , -0.5382916 ],\n",
       "       [-0.11443441,  0.2483197 ],\n",
       "       [-0.34858367,  0.44421098],\n",
       "       [ 1.4264693 , -1.6563883 ],\n",
       "       [-0.34214294,  0.41697073],\n",
       "       [ 1.5806508 , -1.7958206 ],\n",
       "       [-0.10412545,  0.18918703],\n",
       "       [ 1.5879128 , -1.7595471 ],\n",
       "       [ 0.06106459, -0.06130642],\n",
       "       [-0.11360966,  0.21984203],\n",
       "       [ 1.5040448 , -1.7481724 ],\n",
       "       [ 0.37929556, -0.37029532],\n",
       "       [ 1.4339862 , -1.7109649 ],\n",
       "       [ 0.25487372, -0.18869923],\n",
       "       [-0.2574599 ,  0.44663393],\n",
       "       [ 1.5608901 , -1.7399735 ],\n",
       "       [-0.11434237,  0.27260184],\n",
       "       [ 1.491641  , -1.6876732 ],\n",
       "       [-0.245822  ,  0.41100717],\n",
       "       [ 1.3869278 , -1.5879741 ],\n",
       "       [ 1.4612361 , -1.6052006 ],\n",
       "       [-0.31308317,  0.52038705],\n",
       "       [ 1.158667  , -1.3522863 ],\n",
       "       [ 1.4762928 , -1.7625495 ],\n",
       "       [-0.24874644,  0.37072903],\n",
       "       [ 0.23587503, -0.11059266],\n",
       "       [ 1.4264511 , -1.5772339 ],\n",
       "       [-0.20762461,  0.38118026],\n",
       "       [ 0.16474603, -0.17340095],\n",
       "       [ 0.18434483, -0.16471918],\n",
       "       [ 0.51580524, -0.52180415],\n",
       "       [ 1.2035872 , -1.3960656 ],\n",
       "       [ 0.23773234, -0.1468455 ],\n",
       "       [ 1.5752138 , -1.8178368 ],\n",
       "       [ 1.404734  , -1.5872847 ],\n",
       "       [ 0.8545884 , -0.9829798 ],\n",
       "       [-0.31268513,  0.35202864],\n",
       "       [ 0.30135944, -0.21600124],\n",
       "       [ 0.75962335, -0.82693845],\n",
       "       [ 1.4974277 , -1.6801027 ],\n",
       "       [-0.23281531,  0.40708977],\n",
       "       [-0.02379787,  0.15230907],\n",
       "       [ 1.4406141 , -1.6852492 ],\n",
       "       [ 0.07367785, -0.03585035],\n",
       "       [-0.07024561,  0.08308917],\n",
       "       [ 1.3747777 , -1.5380574 ],\n",
       "       [-0.1755078 ,  0.25597313],\n",
       "       [ 0.7491073 , -0.8384686 ],\n",
       "       [ 0.70355666, -0.75022537],\n",
       "       [ 0.34650525, -0.28643692],\n",
       "       [ 0.9658845 , -0.9806949 ],\n",
       "       [ 0.149256  , -0.13491744],\n",
       "       [ 0.99602026, -1.1648412 ],\n",
       "       [ 1.0451983 , -1.1322489 ],\n",
       "       [ 1.4218701 , -1.6009948 ],\n",
       "       [ 1.5633312 , -1.7146611 ],\n",
       "       [ 1.4579405 , -1.7051737 ],\n",
       "       [ 1.3700912 , -1.483295  ],\n",
       "       [-0.03262062,  0.13566999],\n",
       "       [ 0.59826994, -0.60347456],\n",
       "       [ 0.9437559 , -1.0849283 ],\n",
       "       [-0.02357031,  0.18117808],\n",
       "       [-0.19608714,  0.3378232 ],\n",
       "       [ 1.5780635 , -1.7872779 ],\n",
       "       [ 1.4896288 , -1.7192557 ],\n",
       "       [ 1.0849677 , -1.274975  ],\n",
       "       [ 0.25495803, -0.1519811 ],\n",
       "       [ 0.97176594, -1.1371416 ],\n",
       "       [ 1.407577  , -1.6376656 ],\n",
       "       [ 1.5169727 , -1.7514718 ],\n",
       "       [ 1.320123  , -1.3978683 ],\n",
       "       [ 0.474112  , -0.489611  ],\n",
       "       [ 1.299656  , -1.4855148 ],\n",
       "       [ 1.0043904 , -1.1533225 ],\n",
       "       [ 1.3769134 , -1.5950894 ],\n",
       "       [ 1.5957059 , -1.7729238 ],\n",
       "       [ 1.5603023 , -1.6790105 ],\n",
       "       [ 1.276852  , -1.368614  ],\n",
       "       [ 0.71817166, -0.6947085 ],\n",
       "       [ 1.5468793 , -1.6900407 ],\n",
       "       [ 1.5090616 , -1.7215836 ],\n",
       "       [ 0.390192  , -0.3831546 ],\n",
       "       [ 0.22175233, -0.17474683],\n",
       "       [ 1.3300737 , -1.5110025 ],\n",
       "       [ 0.8031761 , -0.8289568 ],\n",
       "       [-0.36077413,  0.48315418],\n",
       "       [ 1.3321143 , -1.5162013 ],\n",
       "       [ 1.2001626 , -1.3192284 ],\n",
       "       [ 1.4586847 , -1.6589999 ],\n",
       "       [ 1.1837387 , -1.2982073 ],\n",
       "       [ 1.4939817 , -1.6365851 ],\n",
       "       [ 0.8117641 , -0.8465819 ],\n",
       "       [ 1.3153051 , -1.5993803 ],\n",
       "       [-0.39217022,  0.5390708 ],\n",
       "       [ 0.91532856, -0.9855631 ],\n",
       "       [ 1.2714748 , -1.3449206 ],\n",
       "       [ 1.2799548 , -1.5394535 ],\n",
       "       [-0.28277227,  0.4788921 ],\n",
       "       [ 1.438009  , -1.6179886 ],\n",
       "       [ 1.5264387 , -1.6971438 ],\n",
       "       [ 1.477642  , -1.6245556 ],\n",
       "       [ 1.4756335 , -1.6396677 ],\n",
       "       [ 1.3492447 , -1.4827423 ],\n",
       "       [ 1.4884725 , -1.7541529 ],\n",
       "       [ 1.5344313 , -1.7644812 ],\n",
       "       [ 1.4300442 , -1.590138  ],\n",
       "       [ 1.3428506 , -1.5063268 ],\n",
       "       [ 1.4978589 , -1.6524723 ],\n",
       "       [-0.05963648,  0.16507822],\n",
       "       [ 1.0309322 , -1.0824729 ],\n",
       "       [ 0.23131652, -0.15782852],\n",
       "       [ 0.9785009 , -1.0053091 ],\n",
       "       [-0.33526996,  0.5005155 ],\n",
       "       [ 1.551094  , -1.7187978 ],\n",
       "       [ 0.33045936, -0.31454244],\n",
       "       [ 1.5768853 , -1.7969553 ],\n",
       "       [ 1.575044  , -1.7949004 ],\n",
       "       [-0.3113521 ,  0.4556449 ],\n",
       "       [ 1.4471998 , -1.7083981 ],\n",
       "       [ 1.3579465 , -1.5330851 ],\n",
       "       [ 1.2463281 , -1.4510016 ],\n",
       "       [ 1.5636868 , -1.8042183 ],\n",
       "       [ 1.4127398 , -1.6204549 ],\n",
       "       [ 1.2338848 , -1.4585451 ],\n",
       "       [-0.21344112,  0.27678674],\n",
       "       [ 0.80654895, -0.9007886 ],\n",
       "       [ 1.0784668 , -1.1479944 ],\n",
       "       [ 1.5074947 , -1.677813  ],\n",
       "       [ 0.8652073 , -0.94748116],\n",
       "       [ 1.4404907 , -1.6135528 ],\n",
       "       [-0.16256295,  0.31316024],\n",
       "       [ 0.03547124, -0.02492561],\n",
       "       [ 0.871396  , -0.9769172 ],\n",
       "       [ 0.9515583 , -1.098348  ],\n",
       "       [ 1.3364018 , -1.5025632 ],\n",
       "       [ 0.3095251 , -0.34893128],\n",
       "       [-0.19942863,  0.3155153 ],\n",
       "       [-0.3097006 ,  0.43492872],\n",
       "       [ 1.0657904 , -1.1992579 ],\n",
       "       [-0.368084  ,  0.48335785],\n",
       "       [ 0.27898613, -0.27963218],\n",
       "       [ 1.4211354 , -1.5343925 ],\n",
       "       [-0.19149035,  0.3684489 ],\n",
       "       [ 1.3658376 , -1.5149221 ],\n",
       "       [ 0.35917038, -0.3413463 ],\n",
       "       [-0.13977405,  0.25910354],\n",
       "       [ 1.4248127 , -1.6362793 ],\n",
       "       [ 1.2465098 , -1.4191437 ],\n",
       "       [-0.03875023,  0.09461172],\n",
       "       [-0.2515583 ,  0.39628345],\n",
       "       [ 0.5754877 , -0.5377364 ],\n",
       "       [ 1.3064424 , -1.3769224 ],\n",
       "       [ 0.5804065 , -0.60907495],\n",
       "       [ 1.3877809 , -1.6441966 ],\n",
       "       [-0.34870574,  0.52600145],\n",
       "       [-0.20410351,  0.3462636 ],\n",
       "       [-0.34493858,  0.48281217],\n",
       "       [ 1.2002933 , -1.2535018 ],\n",
       "       [-0.39447594,  0.50006306],\n",
       "       [ 1.3433286 , -1.5457261 ],\n",
       "       [-0.4051787 ,  0.57846767],\n",
       "       [ 1.4959997 , -1.7134192 ]], dtype=float32), label_ids=array([1, 0, 0, 0, 0, 0, 0, 0, 0, 1, 1, 0, 0, 1, 0, 0, 0, 1, 0, 1, 1, 1,\n",
       "       0, 0, 0, 1, 0, 1, 0, 0, 1, 0, 0, 0, 1, 1, 1, 0, 0, 0, 0, 0, 0, 1,\n",
       "       0, 0, 0, 0, 0, 0, 0, 0, 0, 1, 0, 1, 1, 1, 0, 0, 0, 0, 0, 0, 0, 0,\n",
       "       0, 0, 0, 0, 1, 0, 0, 0, 0, 0, 0, 1, 0, 1, 0, 0, 1, 0, 0, 0, 0, 1,\n",
       "       0, 0, 1, 0, 1, 0, 0, 0, 0, 0, 1, 0, 1, 0, 1, 0, 0, 1, 0, 0, 1, 1,\n",
       "       1, 0, 1, 0, 0, 0, 1, 0, 0, 0, 0, 0, 1, 1, 1, 1, 0, 0, 1, 0, 0, 1,\n",
       "       1, 0, 0, 0, 1, 0, 0, 0, 0, 0, 0, 1, 0, 0, 0, 0, 0, 1, 0, 0, 0, 0,\n",
       "       0, 1, 0, 0, 0, 0, 0, 0, 0, 1, 0, 0, 1, 1, 0, 1, 0, 0, 0, 0, 0, 0,\n",
       "       0, 0, 1, 0, 0, 0, 0, 1, 1, 0, 0, 0, 0, 0, 0, 1, 0, 0, 0, 0, 0, 0,\n",
       "       1, 0, 0, 0, 0, 0, 0, 1, 0, 0, 0, 0, 1, 0, 0, 0, 0, 1, 0, 0, 1, 0,\n",
       "       0, 0, 1, 0, 1, 1, 0, 0, 0, 0, 1, 0, 1, 0, 0, 0, 0, 1, 0, 0, 0, 0,\n",
       "       1, 0, 0, 1, 0, 0, 0, 0, 0, 0, 0, 0, 1, 0, 0, 0, 0, 0, 0, 0, 1, 0,\n",
       "       0, 1, 0, 0, 0, 0, 1, 1, 1, 0, 1, 0, 0, 0, 0, 0, 0, 0, 1, 0, 1, 1,\n",
       "       1, 0, 0, 0, 1, 0, 0, 0, 0, 0, 0, 0, 0, 0, 0, 1, 0, 0, 0, 0, 0, 0,\n",
       "       0, 1, 0, 0, 0, 0, 0, 0, 0, 1, 0, 0, 1, 0, 0, 0, 0, 0, 0, 0, 0, 0,\n",
       "       0, 0, 0, 0, 0, 0, 1, 0, 1, 0, 0, 0, 0, 0, 0, 0, 0, 0, 0, 0, 0, 0,\n",
       "       1, 0, 0, 1, 0, 1, 0, 0, 0, 1, 0, 1, 1, 0, 1, 1, 0, 1, 1, 0, 0, 0,\n",
       "       1, 0, 0, 0, 1, 1, 1, 0, 1, 0, 0, 0]), metrics={'eval_loss': 0.5091715959402231})"
      ]
     },
     "execution_count": 77,
     "metadata": {},
     "output_type": "execute_result"
    }
   ],
   "source": [
    "trainer.predict(test_dataset)"
   ]
  },
  {
   "cell_type": "code",
   "execution_count": 78,
   "metadata": {},
   "outputs": [
    {
     "name": "stderr",
     "output_type": "stream",
     "text": [
      "***** Running Prediction *****\n",
      "  Num examples in dataset = 386\n",
      "  Batch size = 32\n"
     ]
    },
    {
     "data": {
      "text/plain": [
       "array([1, 1, 0, 0, 0, 0, 0, 0, 0, 0, 0, 0, 0, 1, 0, 0, 0, 1, 0, 0, 0, 1,\n",
       "       0, 0, 0, 0, 1, 1, 0, 1, 0, 1, 0, 0, 1, 1, 0, 1, 0, 1, 0, 0, 1, 0,\n",
       "       0, 1, 0, 1, 0, 0, 1, 0, 0, 1, 0, 0, 1, 1, 1, 1, 0, 0, 0, 0, 0, 1,\n",
       "       0, 0, 0, 1, 1, 0, 0, 0, 0, 0, 0, 1, 0, 0, 0, 0, 0, 0, 0, 0, 0, 0,\n",
       "       0, 0, 0, 0, 1, 0, 0, 0, 0, 0, 1, 0, 0, 0, 1, 1, 0, 0, 0, 0, 1, 0,\n",
       "       0, 0, 0, 0, 0, 0, 1, 0, 0, 0, 0, 0, 0, 0, 1, 1, 0, 0, 1, 0, 0, 1,\n",
       "       0, 0, 0, 0, 0, 0, 1, 1, 0, 0, 1, 1, 0, 0, 0, 0, 0, 0, 0, 1, 0, 0,\n",
       "       0, 1, 0, 0, 0, 0, 0, 0, 1, 1, 0, 1, 1, 1, 0, 1, 0, 0, 0, 0, 0, 0,\n",
       "       0, 0, 0, 0, 0, 0, 0, 0, 1, 0, 0, 0, 0, 0, 0, 0, 0, 1, 0, 0, 0, 0,\n",
       "       1, 0, 0, 0, 0, 0, 0, 0, 0, 1, 0, 0, 1, 0, 0, 1, 0, 0, 0, 0, 1, 0,\n",
       "       0, 0, 0, 1, 0, 1, 1, 0, 1, 0, 1, 0, 0, 1, 0, 0, 0, 0, 1, 0, 1, 0,\n",
       "       1, 0, 0, 1, 0, 0, 1, 0, 0, 1, 0, 0, 0, 0, 0, 0, 0, 0, 1, 0, 0, 0,\n",
       "       1, 1, 0, 0, 1, 0, 1, 0, 0, 0, 0, 0, 0, 0, 0, 0, 0, 0, 1, 0, 0, 1,\n",
       "       1, 0, 0, 0, 0, 0, 0, 0, 0, 0, 0, 0, 0, 0, 0, 0, 0, 0, 0, 0, 0, 0,\n",
       "       0, 1, 0, 0, 0, 0, 0, 0, 0, 1, 0, 0, 0, 1, 0, 0, 0, 0, 0, 0, 0, 0,\n",
       "       0, 0, 1, 0, 0, 0, 1, 0, 0, 0, 0, 1, 0, 0, 0, 0, 0, 0, 1, 0, 0, 0,\n",
       "       0, 0, 1, 0, 0, 0, 0, 0, 1, 1, 0, 1, 0, 0, 1, 0, 0, 1, 0, 0, 1, 1,\n",
       "       0, 0, 0, 0, 1, 1, 1, 0, 1, 0, 1, 0], dtype=int64)"
      ]
     },
     "execution_count": 78,
     "metadata": {},
     "output_type": "execute_result"
    }
   ],
   "source": [
    "results_test = trainer.predict(test_dataset)\n",
    "\n",
    "prediction_value = tf.argmax(results_test.predictions, axis = 1).numpy()\n",
    "prediction_value"
   ]
  },
  {
   "cell_type": "code",
   "execution_count": 79,
   "metadata": {},
   "outputs": [
    {
     "name": "stdout",
     "output_type": "stream",
     "text": [
      "[[242  44]\n",
      " [ 49  51]]\n"
     ]
    },
    {
     "data": {
      "image/png": "[encoded data removed]",
      "text/plain": [
       "<Figure size 432x288 with 2 Axes>"
      ]
     },
     "metadata": {
      "needs_background": "light"
     },
     "output_type": "display_data"
    }
   ],
   "source": [
    "from sklearn.metrics import confusion_matrix, ConfusionMatrixDisplay\n",
    "import matplotlib.pyplot as plt\n",
    "import numpy\n",
    "\n",
    "# Create a confusion matrix\n",
    "conf_mat = confusion_matrix(test_labels, prediction_value)\n",
    "\n",
    "# Print the confusion matrix\n",
    "print(conf_mat)\n",
    "\n",
    "confusion_matrix = confusion_matrix(test_labels, prediction_value)\n",
    "\n",
    "cm_display = ConfusionMatrixDisplay(confusion_matrix = confusion_matrix, display_labels = [0, 1])\n",
    "\n",
    "cm_display.plot()\n",
    "plt.show()"
   ]
  },
  {
   "cell_type": "code",
   "execution_count": 80,
   "metadata": {},
   "outputs": [
    {
     "name": "stdout",
     "output_type": "stream",
     "text": [
      "Accuracy: 0.759\n",
      "Precision: 0.684\n",
      "Recall: 0.678\n",
      "F1 score: 0.681\n"
     ]
    }
   ],
   "source": [
    "from sklearn.metrics import accuracy_score, precision_score, recall_score, f1_score\n",
    "\n",
    "# Calculate the metrics\n",
    "accuracy = accuracy_score(test_labels, prediction_value)\n",
    "precision = precision_score(test_labels, prediction_value, average='macro')\n",
    "recall = recall_score(test_labels, prediction_value, average='macro')\n",
    "f1 = f1_score(test_labels, prediction_value, average='macro')\n",
    "\n",
    "# Print the metrics\n",
    "print(f\"Accuracy: {accuracy:.3f}\")\n",
    "print(f\"Precision: {precision:.3f}\")\n",
    "print(f\"Recall: {recall:.3f}\")\n",
    "print(f\"F1 score: {f1:.3f}\")"
   ]
  },
  {
   "cell_type": "code",
   "execution_count": 41,
   "metadata": {},
   "outputs": [],
   "source": [
    "### CON TEXTS LEMATIZADOS\n",
    "# Accuracy: 0.816\n",
    "# Precision: 0.769\n",
    "# Recall: 0.720\n",
    "# F1 score: 0.738\n",
    "\n",
    "# Accuracy: 0.759\n",
    "# Precision: 0.684\n",
    "# Recall: 0.678\n",
    "# F1 score: 0.681\n",
    "\n",
    "# Accuracy: 0.772\n",
    "# Precision: 0.701\n",
    "# Recall: 0.690\n",
    "# F1 score: 0.695\n",
    "\n",
    "# Accuracy: 0.759\n",
    "# Precision: 0.684\n",
    "# Recall: 0.678\n",
    "# F1 score: 0.681\n",
    "\n",
    "\n",
    "\n",
    "\n",
    "### CON TEXTS SIN LEMATIZAR\n",
    "# Accuracy: 0.790\n",
    "# Precision: 0.739\n",
    "# Recall: 0.657\n",
    "# F1 score: 0.676\n",
    "\n",
    "# Accuracy: 0.764\n",
    "# Precision: 0.690\n",
    "# Recall: 0.678\n",
    "# F1 score: 0.683\n",
    "\n",
    "# Accuracy: 0.780\n",
    "# Precision: 0.716\n",
    "# Recall: 0.728\n",
    "# F1 score: 0.721\n",
    "\n",
    "# Accuracy: 0.764\n",
    "# Precision: 0.690\n",
    "# Recall: 0.678\n",
    "# F1 score: 0.683\n",
    "\n",
    "# Accuracy: 0.811\n",
    "# Precision: 0.754\n",
    "# Recall: 0.752\n",
    "# F1 score: 0.753\n",
    "\n",
    "# Accuracy: 0.767\n",
    "# Precision: 0.694\n",
    "# Recall: 0.683\n",
    "# F1 score: 0.688"
   ]
  },
  {
   "cell_type": "markdown",
   "metadata": {
    "id": "jDHeS0wo60VE"
   },
   "source": [
    "#### Guardamos el modelo\n",
    "\n",
    "Tenemos que guardar el trainer"
   ]
  },
  {
   "cell_type": "code",
   "execution_count": 39,
   "metadata": {
    "colab": {
     "base_uri": "https://localhost:8080/"
    },
    "id": "_DC5uHGa6XPK",
    "outputId": "8631d810-4850-40b9-838b-8873eb19cd7f"
   },
   "outputs": [
    {
     "name": "stderr",
     "output_type": "stream",
     "text": [
      "Saving model in GUARDADO/\n",
      "Configuration saved in GUARDADO/config.json\n",
      "Model weights saved in GUARDADO/tf_model.h5\n",
      "tokenizer config file saved in GUARDADO/tokenizer_config.json\n",
      "Special tokens file saved in GUARDADO/special_tokens_map.json\n"
     ]
    },
    {
     "data": {
      "text/plain": [
       "('GUARDADO/tokenizer_config.json',\n",
       " 'GUARDADO/special_tokens_map.json',\n",
       " 'GUARDADO/vocab.txt',\n",
       " 'GUARDADO/added_tokens.json')"
      ]
     },
     "execution_count": 39,
     "metadata": {},
     "output_type": "execute_result"
    }
   ],
   "source": [
    "save_directory = \"GUARDADO/\"\n",
    "\n",
    "#trainer_model.save_pretrained(save_directory)\n",
    "trainer.save_model(save_directory)\n",
    "# model.save_pretrained(save_directory)  ---> La verdad no se que modelo va.\n",
    "\n",
    "tokenizer.save_pretrained(save_directory)"
   ]
  },
  {
   "cell_type": "markdown",
   "metadata": {
    "id": "i7BONyGK-_-r"
   },
   "source": [
    "#### Cargamos el modelo pre-entrenado"
   ]
  },
  {
   "cell_type": "code",
   "execution_count": 40,
   "metadata": {},
   "outputs": [],
   "source": [
    "# ## Para cargar nos ubicamos en la carpeta\n",
    "# cd F:\\Maestria\\TESIS\\"
   ]
  },
  {
   "cell_type": "code",
   "execution_count": 43,
   "metadata": {
    "colab": {
     "base_uri": "https://localhost:8080/"
    },
    "id": "iNfIG-PooBPk",
    "outputId": "0943ad05-bb72-4318-cd79-ab85f3cfc981",
    "scrolled": true
   },
   "outputs": [
    {
     "name": "stderr",
     "output_type": "stream",
     "text": [
      "Didn't find file GUARDADO/added_tokens.json. We won't load it.\n",
      "Didn't find file GUARDADO/tokenizer.json. We won't load it.\n",
      "loading file GUARDADO/vocab.txt\n",
      "loading file None\n",
      "loading file GUARDADO/special_tokens_map.json\n",
      "loading file GUARDADO/tokenizer_config.json\n",
      "loading file None\n",
      "loading configuration file GUARDADO/config.json\n",
      "Model config DistilBertConfig {\n",
      "  \"_name_or_path\": \"distilbert-base-uncased\",\n",
      "  \"activation\": \"gelu\",\n",
      "  \"architectures\": [\n",
      "    \"DistilBertForMaskedLM\"\n",
      "  ],\n",
      "  \"attention_dropout\": 0.1,\n",
      "  \"dim\": 768,\n",
      "  \"dropout\": 0.1,\n",
      "  \"hidden_dim\": 3072,\n",
      "  \"initializer_range\": 0.02,\n",
      "  \"max_position_embeddings\": 512,\n",
      "  \"model_type\": \"distilbert\",\n",
      "  \"n_heads\": 12,\n",
      "  \"n_layers\": 6,\n",
      "  \"pad_token_id\": 0,\n",
      "  \"qa_dropout\": 0.1,\n",
      "  \"seq_classif_dropout\": 0.2,\n",
      "  \"sinusoidal_pos_embds\": false,\n",
      "  \"tie_weights_\": true,\n",
      "  \"transformers_version\": \"4.5.1\",\n",
      "  \"vocab_size\": 30522\n",
      "}\n",
      "\n",
      "loading weights file GUARDADO/tf_model.h5\n",
      "Some layers from the model checkpoint at GUARDADO/ were not used when initializing TFDistilBertForSequenceClassification: ['dropout_19']\n",
      "- This IS expected if you are initializing TFDistilBertForSequenceClassification from the checkpoint of a model trained on another task or with another architecture (e.g. initializing a BertForSequenceClassification model from a BertForPreTraining model).\n",
      "- This IS NOT expected if you are initializing TFDistilBertForSequenceClassification from the checkpoint of a model that you expect to be exactly identical (initializing a BertForSequenceClassification model from a BertForSequenceClassification model).\n",
      "Some layers of TFDistilBertForSequenceClassification were not initialized from the model checkpoint at GUARDADO/ and are newly initialized: ['dropout_79']\n",
      "You should probably TRAIN this model on a down-stream task to be able to use it for predictions and inference.\n"
     ]
    }
   ],
   "source": [
    "save_directory = \"GUARDADO/\"\n",
    "\n",
    "tokenizer_fine_tuned = DistilBertTokenizer.from_pretrained(save_directory)\n",
    "\n",
    "model_fine_tuned = TFDistilBertForSequenceClassification.from_pretrained(save_directory)#.cuda()"
   ]
  },
  {
   "cell_type": "code",
   "execution_count": 44,
   "metadata": {
    "colab": {
     "base_uri": "https://localhost:8080/",
     "height": 53
    },
    "id": "QJisWlgb_DTm",
    "outputId": "621384bd-3240-498b-e35e-ac70d37c4290"
   },
   "outputs": [
    {
     "data": {
      "text/plain": [
       "'it past time to bringbackourmarine sgt tahmooressi pjnet'"
      ]
     },
     "execution_count": 44,
     "metadata": {},
     "output_type": "execute_result"
    }
   ],
   "source": [
    "test_text = test_texts[6]\n",
    "\n",
    "test_text"
   ]
  },
  {
   "cell_type": "code",
   "execution_count": 45,
   "metadata": {},
   "outputs": [
    {
     "data": {
      "text/plain": [
       "386"
      ]
     },
     "execution_count": 45,
     "metadata": {},
     "output_type": "execute_result"
    }
   ],
   "source": [
    "len(test_texts)"
   ]
  },
  {
   "cell_type": "code",
   "execution_count": 46,
   "metadata": {},
   "outputs": [
    {
     "data": {
      "text/plain": [
       "'conservative economist laffer significant gdp growth job creation to follow mfa passage'"
      ]
     },
     "execution_count": 46,
     "metadata": {},
     "output_type": "execute_result"
    }
   ],
   "source": [
    "val_text = val_texts[2]\n",
    "\n",
    "val_text"
   ]
  },
  {
   "cell_type": "code",
   "execution_count": 47,
   "metadata": {
    "colab": {
     "base_uri": "https://localhost:8080/"
    },
    "id": "HZXvCt0z_DRz",
    "outputId": "def71efd-8d2b-4777-ed37-1dd017e24296"
   },
   "outputs": [
    {
     "name": "stdout",
     "output_type": "stream",
     "text": [
      "tf.Tensor([[ 1.2823867 -1.3214506]], shape=(1, 2), dtype=float32)\n",
      "tf.Tensor([[0.9311081  0.06889187]], shape=(1, 2), dtype=float32)\n"
     ]
    },
    {
     "data": {
      "text/plain": [
       "0"
      ]
     },
     "execution_count": 47,
     "metadata": {},
     "output_type": "execute_result"
    }
   ],
   "source": [
    "## 0 neutral |||  1 partisan\n",
    "\n",
    "predict_input = tokenizer_fine_tuned.encode(\n",
    "    test_text,\n",
    "    truncation = True,\n",
    "    padding = True,\n",
    "    return_tensors = 'tf'\n",
    ")\n",
    "\n",
    "outputs = model_fine_tuned(predict_input)\n",
    "output = model_fine_tuned(predict_input)[0]\n",
    "\n",
    "logits = outputs.logits\n",
    "\n",
    "prediction_value = tf.argmax(output, axis = 1).numpy()[0]\n",
    "\n",
    "## Aplicamos softmax al Logits para obtener el SCORE\n",
    "probabilities = tf.nn.softmax(logits)\n",
    "print(logits)\n",
    "print(probabilities)\n",
    "\n",
    "prediction_value"
   ]
  },
  {
   "cell_type": "code",
   "execution_count": 48,
   "metadata": {},
   "outputs": [
    {
     "data": {
      "text/plain": [
       "<tf.Tensor: shape=(1, 2), dtype=float32, numpy=array([[ 1.2823867, -1.3214506]], dtype=float32)>"
      ]
     },
     "execution_count": 48,
     "metadata": {},
     "output_type": "execute_result"
    }
   ],
   "source": [
    "output\n",
    "# Tensor con la predicción"
   ]
  },
  {
   "cell_type": "code",
   "execution_count": 49,
   "metadata": {},
   "outputs": [
    {
     "data": {
      "text/plain": [
       "1"
      ]
     },
     "execution_count": 49,
     "metadata": {},
     "output_type": "execute_result"
    }
   ],
   "source": [
    "predict_input = tokenizer_fine_tuned.encode(\n",
    "    val_text,\n",
    "    truncation = True,\n",
    "    padding = True,\n",
    "    return_tensors = 'tf'\n",
    ")\n",
    "\n",
    "output = model_fine_tuned(predict_input)[0]\n",
    "\n",
    "prediction_value = tf.argmax(output, axis = 1).numpy()[0]\n",
    "\n",
    "prediction_value\n",
    "## 0 neutral |||  1 partisan"
   ]
  },
  {
   "cell_type": "markdown",
   "metadata": {},
   "source": [
    "### Prueba"
   ]
  },
  {
   "cell_type": "code",
   "execution_count": 50,
   "metadata": {},
   "outputs": [],
   "source": [
    "# Tokenizo\n",
    "test_encodings = tokenizer_fine_tuned(test_texts, truncation = True, padding = True )"
   ]
  },
  {
   "cell_type": "code",
   "execution_count": 51,
   "metadata": {},
   "outputs": [],
   "source": [
    "# Convertimos a Tensores\n",
    "Test_dataset = tf.data.Dataset.from_tensor_slices((\n",
    "    dict(test_encodings),\n",
    "    test_labels\n",
    "))"
   ]
  },
  {
   "cell_type": "code",
   "execution_count": 52,
   "metadata": {
    "scrolled": true
   },
   "outputs": [
    {
     "data": {
      "text/plain": [
       "range(0, 386)"
      ]
     },
     "execution_count": 52,
     "metadata": {},
     "output_type": "execute_result"
    }
   ],
   "source": [
    "range(len(test_texts))"
   ]
  },
  {
   "cell_type": "code",
   "execution_count": 53,
   "metadata": {},
   "outputs": [],
   "source": [
    "## Tokeznizar y tensorizar en un proceso\n",
    "Lista_tensores = []\n",
    "\n",
    "for i in range(len(test_texts)):\n",
    "    predict_input = tokenizer_fine_tuned.encode(\n",
    "        test_texts[i],\n",
    "        truncation = True,\n",
    "        padding = True,\n",
    "        return_tensors = 'tf'\n",
    "    )\n",
    "    Lista_tensores.append(predict_input)"
   ]
  },
  {
   "cell_type": "code",
   "execution_count": 54,
   "metadata": {},
   "outputs": [
    {
     "name": "stdout",
     "output_type": "stream",
     "text": [
      "WARNING:tensorflow:The parameters `output_attentions`, `output_hidden_states` and `use_cache` cannot be updated when calling a model.They have to be set to True/False in the config object (i.e.: `config=XConfig.from_pretrained('name', output_attentions=True)`).\n",
      "WARNING:tensorflow:The parameter `return_dict` cannot be set in graph mode and will always be set to `True`.\n",
      "WARNING:tensorflow:The parameters `output_attentions`, `output_hidden_states` and `use_cache` cannot be updated when calling a model.They have to be set to True/False in the config object (i.e.: `config=XConfig.from_pretrained('name', output_attentions=True)`).\n",
      "WARNING:tensorflow:The parameter `return_dict` cannot be set in graph mode and will always be set to `True`.\n",
      "WARNING:tensorflow:The parameters `output_attentions`, `output_hidden_states` and `use_cache` cannot be updated when calling a model.They have to be set to True/False in the config object (i.e.: `config=XConfig.from_pretrained('name', output_attentions=True)`).\n",
      "WARNING:tensorflow:The parameter `return_dict` cannot be set in graph mode and will always be set to `True`.\n"
     ]
    }
   ],
   "source": [
    "## Predecir\n",
    "lista_predichos = []\n",
    "for i in range(len(Lista_tensores)):\n",
    "    test_pred = model_fine_tuned.predict(Lista_tensores[i])\n",
    "    lista_predichos.append(test_pred)"
   ]
  },
  {
   "cell_type": "code",
   "execution_count": 55,
   "metadata": {},
   "outputs": [
    {
     "data": {
      "text/plain": [
       "386"
      ]
     },
     "execution_count": 55,
     "metadata": {},
     "output_type": "execute_result"
    }
   ],
   "source": [
    "len(lista_predichos)"
   ]
  },
  {
   "cell_type": "code",
   "execution_count": 56,
   "metadata": {},
   "outputs": [],
   "source": [
    "lista_predicho_label = []\n",
    "\n",
    "for i in range(len(lista_predichos)):\n",
    "    prediction_values = tf.argmax(lista_predichos[i][0], axis = 1).numpy()[0]\n",
    "    \n",
    "    lista_predicho_label.append(prediction_values)"
   ]
  },
  {
   "cell_type": "code",
   "execution_count": 57,
   "metadata": {},
   "outputs": [
    {
     "data": {
      "text/plain": [
       "[0,\n",
       " 0,\n",
       " 0,\n",
       " 0,\n",
       " 0,\n",
       " 1,\n",
       " 0,\n",
       " 0,\n",
       " 0,\n",
       " 0,\n",
       " 0,\n",
       " 0,\n",
       " 0,\n",
       " 1,\n",
       " 1,\n",
       " 0,\n",
       " 0,\n",
       " 0,\n",
       " 0,\n",
       " 0,\n",
       " 0,\n",
       " 0,\n",
       " 0,\n",
       " 0,\n",
       " 0,\n",
       " 0,\n",
       " 0,\n",
       " 0,\n",
       " 1,\n",
       " 0,\n",
       " 0,\n",
       " 0,\n",
       " 0,\n",
       " 0,\n",
       " 0,\n",
       " 0,\n",
       " 0,\n",
       " 0,\n",
       " 0,\n",
       " 1,\n",
       " 0,\n",
       " 0,\n",
       " 1,\n",
       " 0,\n",
       " 0,\n",
       " 1,\n",
       " 1,\n",
       " 0,\n",
       " 0,\n",
       " 1,\n",
       " 0,\n",
       " 0,\n",
       " 0,\n",
       " 0,\n",
       " 0,\n",
       " 0,\n",
       " 0,\n",
       " 0,\n",
       " 0,\n",
       " 0,\n",
       " 0,\n",
       " 0,\n",
       " 0,\n",
       " 0,\n",
       " 0,\n",
       " 0,\n",
       " 0,\n",
       " 0,\n",
       " 0,\n",
       " 0,\n",
       " 0,\n",
       " 1,\n",
       " 0,\n",
       " 0,\n",
       " 0,\n",
       " 0,\n",
       " 0,\n",
       " 0,\n",
       " 0,\n",
       " 0,\n",
       " 0,\n",
       " 1,\n",
       " 0,\n",
       " 0,\n",
       " 0,\n",
       " 0,\n",
       " 0,\n",
       " 1,\n",
       " 0,\n",
       " 1,\n",
       " 0,\n",
       " 0,\n",
       " 0,\n",
       " 1,\n",
       " 0,\n",
       " 1,\n",
       " 1,\n",
       " 1,\n",
       " 1,\n",
       " 1,\n",
       " 0,\n",
       " 0,\n",
       " 0,\n",
       " 1,\n",
       " 0,\n",
       " 1,\n",
       " 1,\n",
       " 0,\n",
       " 0,\n",
       " 0,\n",
       " 0,\n",
       " 0,\n",
       " 0,\n",
       " 0,\n",
       " 0,\n",
       " 0,\n",
       " 0,\n",
       " 0,\n",
       " 0,\n",
       " 0,\n",
       " 0,\n",
       " 1,\n",
       " 0,\n",
       " 0,\n",
       " 0,\n",
       " 0,\n",
       " 1,\n",
       " 0,\n",
       " 0,\n",
       " 0,\n",
       " 0,\n",
       " 1,\n",
       " 0,\n",
       " 0,\n",
       " 0,\n",
       " 0,\n",
       " 0,\n",
       " 0,\n",
       " 0,\n",
       " 0,\n",
       " 1,\n",
       " 0,\n",
       " 0,\n",
       " 0,\n",
       " 0,\n",
       " 0,\n",
       " 0,\n",
       " 0,\n",
       " 0,\n",
       " 0,\n",
       " 0,\n",
       " 1,\n",
       " 0,\n",
       " 0,\n",
       " 0,\n",
       " 1,\n",
       " 0,\n",
       " 0,\n",
       " 0,\n",
       " 0,\n",
       " 0,\n",
       " 0,\n",
       " 0,\n",
       " 1,\n",
       " 0,\n",
       " 0,\n",
       " 0,\n",
       " 1,\n",
       " 0,\n",
       " 0,\n",
       " 0,\n",
       " 0,\n",
       " 0,\n",
       " 0,\n",
       " 1,\n",
       " 1,\n",
       " 1,\n",
       " 0,\n",
       " 0,\n",
       " 0,\n",
       " 0,\n",
       " 0,\n",
       " 0,\n",
       " 0,\n",
       " 0,\n",
       " 0,\n",
       " 0,\n",
       " 1,\n",
       " 0,\n",
       " 0,\n",
       " 0,\n",
       " 0,\n",
       " 0,\n",
       " 0,\n",
       " 0,\n",
       " 0,\n",
       " 0,\n",
       " 0,\n",
       " 0,\n",
       " 0,\n",
       " 0,\n",
       " 0,\n",
       " 0,\n",
       " 0,\n",
       " 1,\n",
       " 0,\n",
       " 1,\n",
       " 0,\n",
       " 0,\n",
       " 0,\n",
       " 1,\n",
       " 0,\n",
       " 0,\n",
       " 0,\n",
       " 0,\n",
       " 0,\n",
       " 1,\n",
       " 0,\n",
       " 0,\n",
       " 1,\n",
       " 0,\n",
       " 0,\n",
       " 0,\n",
       " 0,\n",
       " 0,\n",
       " 0,\n",
       " 0,\n",
       " 0,\n",
       " 0,\n",
       " 1,\n",
       " 1,\n",
       " 1,\n",
       " 0,\n",
       " 0,\n",
       " 0,\n",
       " 0,\n",
       " 0,\n",
       " 1,\n",
       " 0,\n",
       " 0,\n",
       " 1,\n",
       " 0,\n",
       " 0,\n",
       " 1,\n",
       " 0,\n",
       " 0,\n",
       " 0,\n",
       " 0,\n",
       " 0,\n",
       " 0,\n",
       " 0,\n",
       " 0,\n",
       " 1,\n",
       " 0,\n",
       " 0,\n",
       " 0,\n",
       " 1,\n",
       " 0,\n",
       " 0,\n",
       " 0,\n",
       " 0,\n",
       " 0,\n",
       " 0,\n",
       " 0,\n",
       " 1,\n",
       " 0,\n",
       " 0,\n",
       " 0,\n",
       " 0,\n",
       " 0,\n",
       " 1,\n",
       " 1,\n",
       " 1,\n",
       " 0,\n",
       " 0,\n",
       " 1,\n",
       " 0,\n",
       " 0,\n",
       " 0,\n",
       " 0,\n",
       " 0,\n",
       " 0,\n",
       " 0,\n",
       " 0,\n",
       " 1,\n",
       " 0,\n",
       " 1,\n",
       " 0,\n",
       " 0,\n",
       " 0,\n",
       " 1,\n",
       " 1,\n",
       " 0,\n",
       " 0,\n",
       " 0,\n",
       " 1,\n",
       " 0,\n",
       " 0,\n",
       " 0,\n",
       " 1,\n",
       " 0,\n",
       " 0,\n",
       " 0,\n",
       " 1,\n",
       " 0,\n",
       " 1,\n",
       " 0,\n",
       " 0,\n",
       " 0,\n",
       " 0,\n",
       " 0,\n",
       " 0,\n",
       " 0,\n",
       " 0,\n",
       " 0,\n",
       " 0,\n",
       " 0,\n",
       " 0,\n",
       " 0,\n",
       " 0,\n",
       " 0,\n",
       " 0,\n",
       " 1,\n",
       " 0,\n",
       " 0,\n",
       " 0,\n",
       " 0,\n",
       " 0,\n",
       " 0,\n",
       " 1,\n",
       " 0,\n",
       " 0,\n",
       " 1,\n",
       " 0,\n",
       " 0,\n",
       " 0,\n",
       " 0,\n",
       " 0,\n",
       " 1,\n",
       " 0,\n",
       " 0,\n",
       " 0,\n",
       " 0,\n",
       " 1,\n",
       " 0,\n",
       " 0,\n",
       " 0,\n",
       " 0,\n",
       " 0,\n",
       " 0,\n",
       " 0,\n",
       " 1,\n",
       " 1,\n",
       " 0,\n",
       " 0,\n",
       " 0,\n",
       " 0,\n",
       " 0,\n",
       " 0,\n",
       " 0,\n",
       " 0,\n",
       " 1,\n",
       " 0,\n",
       " 0,\n",
       " 0,\n",
       " 1,\n",
       " 0,\n",
       " 0,\n",
       " 0,\n",
       " 1,\n",
       " 0,\n",
       " 0,\n",
       " 0,\n",
       " 0,\n",
       " 0,\n",
       " 1,\n",
       " 0,\n",
       " 0,\n",
       " 1,\n",
       " 1,\n",
       " 1,\n",
       " 0,\n",
       " 0,\n",
       " 1,\n",
       " 0,\n",
       " 0]"
      ]
     },
     "execution_count": 57,
     "metadata": {},
     "output_type": "execute_result"
    }
   ],
   "source": [
    "lista_predicho_label"
   ]
  },
  {
   "cell_type": "code",
   "execution_count": 58,
   "metadata": {},
   "outputs": [
    {
     "data": {
      "text/plain": [
       "<tf.Tensor: shape=(), dtype=float32, numpy=0.03323904>"
      ]
     },
     "execution_count": 58,
     "metadata": {},
     "output_type": "execute_result"
    }
   ],
   "source": [
    "# Softmax para ver el SCORE de cada prediccion\n",
    "tf.nn.softmax(lista_predichos[0][0])[0][1]"
   ]
  },
  {
   "cell_type": "code",
   "execution_count": 59,
   "metadata": {},
   "outputs": [],
   "source": [
    "lista_scores = []\n",
    "\n",
    "for i in range(len(lista_predichos)):\n",
    "    probabilities = tf.nn.softmax(lista_predichos[i][0])\n",
    "        \n",
    "    lista_scores.append([probabilities[0][0],probabilities[0][1]])"
   ]
  },
  {
   "cell_type": "code",
   "execution_count": 60,
   "metadata": {},
   "outputs": [
    {
     "data": {
      "text/plain": [
       "[<tf.Tensor: shape=(), dtype=float32, numpy=0.34948656>,\n",
       " <tf.Tensor: shape=(), dtype=float32, numpy=0.65051347>]"
      ]
     },
     "execution_count": 60,
     "metadata": {},
     "output_type": "execute_result"
    }
   ],
   "source": [
    "lista_scores[14]"
   ]
  },
  {
   "cell_type": "code",
   "execution_count": 61,
   "metadata": {},
   "outputs": [],
   "source": [
    "# Obtenemos la lista de\n",
    "lista_v = []\n",
    "\n",
    "for i in range(180):    \n",
    "    x1 = lista_scores[i][0].numpy() #0's neutral\n",
    "    x2 = lista_scores[i][1].numpy() #1's partisans\n",
    "    #print(x)\n",
    "    if x1 > 0.82:\n",
    "        y = i    \n",
    "        lista_v.append([x1,y]) #0's neutral\n",
    "    elif x2 > 0.6:\n",
    "        y = i    \n",
    "        lista_v.append([x2,y]) #1's partisans"
   ]
  },
  {
   "cell_type": "code",
   "execution_count": 62,
   "metadata": {},
   "outputs": [
    {
     "data": {
      "text/plain": [
       "[[0.96676093, 0],\n",
       " [0.9571315, 1],\n",
       " [0.9624967, 2],\n",
       " [0.6104449, 5],\n",
       " [0.9311014, 6],\n",
       " [0.88501674, 7],\n",
       " [0.8824997, 9],\n",
       " [0.92163295, 10],\n",
       " [0.8785393, 11],\n",
       " [0.9325505, 12],\n",
       " [0.6559662, 13],\n",
       " [0.65051347, 14],\n",
       " [0.93351585, 15],\n",
       " [0.9253879, 17],\n",
       " [0.9237551, 19],\n",
       " [0.9007552, 20],\n",
       " [0.9584194, 21],\n",
       " [0.9650927, 23],\n",
       " [0.95442647, 24],\n",
       " [0.9412929, 26],\n",
       " [0.92001927, 27],\n",
       " [0.946872, 30],\n",
       " [0.8929845, 31],\n",
       " [0.95350564, 32],\n",
       " [0.86087227, 33],\n",
       " [0.9661579, 34],\n",
       " [0.9597169, 35],\n",
       " [0.96083176, 37],\n",
       " [0.84966385, 38],\n",
       " [0.66072994, 39],\n",
       " [0.9506689, 40],\n",
       " [0.9202896, 41],\n",
       " [0.6008626, 42],\n",
       " [0.85607564, 44],\n",
       " [0.63879526, 46],\n",
       " [0.8296248, 48],\n",
       " [0.68174666, 49],\n",
       " [0.96536446, 50],\n",
       " [0.94381565, 51],\n",
       " [0.9046112, 53],\n",
       " [0.92571867, 55],\n",
       " [0.9405201, 56],\n",
       " [0.946466, 57],\n",
       " [0.8903582, 60],\n",
       " [0.9563133, 61],\n",
       " [0.95001566, 63],\n",
       " [0.96106833, 65],\n",
       " [0.9414599, 69],\n",
       " [0.90957195, 74],\n",
       " [0.91992575, 75],\n",
       " [0.9648616, 76],\n",
       " [0.89737976, 77],\n",
       " [0.87422067, 78],\n",
       " [0.8301757, 79],\n",
       " [0.9326317, 80],\n",
       " [0.62055594, 81],\n",
       " [0.9644545, 83],\n",
       " [0.9444682, 84],\n",
       " [0.9253592, 85],\n",
       " [0.96641946, 86],\n",
       " [0.70234233, 87],\n",
       " [0.96676886, 88],\n",
       " [0.97211987, 90],\n",
       " [0.83553106, 91],\n",
       " [0.8959791, 92],\n",
       " [0.61748993, 93],\n",
       " [0.9512702, 94],\n",
       " [0.6031478, 95],\n",
       " [0.91865903, 101],\n",
       " [0.6455682, 103],\n",
       " [0.908018, 104],\n",
       " [0.64666545, 105],\n",
       " [0.94342756, 108],\n",
       " [0.8379367, 109],\n",
       " [0.96470815, 110],\n",
       " [0.96516144, 111],\n",
       " [0.85526633, 113],\n",
       " [0.96011287, 114],\n",
       " [0.9666766, 115],\n",
       " [0.9529621, 116],\n",
       " [0.954353, 118],\n",
       " [0.9168558, 119],\n",
       " [0.8972145, 122],\n",
       " [0.96150863, 123],\n",
       " [0.9313567, 124],\n",
       " [0.96404845, 127],\n",
       " [0.8776079, 128],\n",
       " [0.94314724, 132],\n",
       " [0.96493715, 134],\n",
       " [0.87561893, 136],\n",
       " [0.9049056, 137],\n",
       " [0.87599623, 138],\n",
       " [0.91726536, 139],\n",
       " [0.96360284, 141],\n",
       " [0.9411033, 142],\n",
       " [0.96635133, 146],\n",
       " [0.9393713, 148],\n",
       " [0.94234467, 149],\n",
       " [0.9084364, 150],\n",
       " [0.92438316, 156],\n",
       " [0.962204, 157],\n",
       " [0.9628004, 158],\n",
       " [0.83783, 159],\n",
       " [0.8474531, 160],\n",
       " [0.9546402, 161],\n",
       " [0.9220196, 162],\n",
       " [0.6832101, 163],\n",
       " [0.96012837, 165],\n",
       " [0.95783406, 166],\n",
       " [0.94232273, 168],\n",
       " [0.94007015, 169],\n",
       " [0.9681786, 171],\n",
       " [0.85859174, 172],\n",
       " [0.97023946, 173],\n",
       " [0.6356006, 175],\n",
       " [0.61664706, 176],\n",
       " [0.94963956, 178],\n",
       " [0.9649917, 179]]"
      ]
     },
     "execution_count": 62,
     "metadata": {},
     "output_type": "execute_result"
    }
   ],
   "source": [
    "lista_v\n",
    "\n",
    "# El número de la izq es el score, el de la derecha el ÍNDICE en el cual se encuentra la predicción (0,1)\n",
    "## Esto lo hago porque sólo quiero ver la explciación en el SHAP, las predicciones con un score alto.\n",
    "### Pero, resulta que, las predicciones con un SCORE alto, solamente son 0's"
   ]
  },
  {
   "cell_type": "code",
   "execution_count": 63,
   "metadata": {},
   "outputs": [
    {
     "name": "stdout",
     "output_type": "stream",
     "text": [
      "[[0.96676093, 0], [0.9571315, 1], [0.9624967, 2], [0.6104449, 5], [0.9311014, 6], [0.88501674, 7], [0.8824997, 9], [0.92163295, 10], [0.8785393, 11], [0.9325505, 12], [0.6559662, 13], [0.65051347, 14], [0.93351585, 15], [0.9253879, 17], [0.9237551, 19], [0.9007552, 20], [0.9584194, 21], [0.9650927, 23], [0.95442647, 24], [0.9412929, 26], [0.92001927, 27], [0.946872, 30], [0.8929845, 31], [0.95350564, 32], [0.86087227, 33], [0.9661579, 34], [0.9597169, 35], [0.96083176, 37], [0.84966385, 38], [0.66072994, 39], [0.9506689, 40], [0.9202896, 41], [0.6008626, 42], [0.85607564, 44], [0.63879526, 46], [0.8296248, 48], [0.68174666, 49], [0.96536446, 50], [0.94381565, 51], [0.9046112, 53], [0.92571867, 55], [0.9405201, 56], [0.946466, 57], [0.8903582, 60], [0.9563133, 61], [0.95001566, 63], [0.96106833, 65], [0.9414599, 69], [0.90957195, 74], [0.91992575, 75], [0.9648616, 76], [0.89737976, 77], [0.87422067, 78], [0.8301757, 79], [0.9326317, 80], [0.62055594, 81], [0.9644545, 83], [0.9444682, 84], [0.9253592, 85], [0.96641946, 86], [0.70234233, 87], [0.96676886, 88], [0.97211987, 90], [0.83553106, 91], [0.8959791, 92], [0.61748993, 93], [0.9512702, 94], [0.6031478, 95], [0.91865903, 101], [0.6455682, 103], [0.908018, 104], [0.64666545, 105], [0.94342756, 108], [0.8379367, 109], [0.96470815, 110], [0.96516144, 111], [0.85526633, 113], [0.96011287, 114], [0.9666766, 115], [0.9529621, 116], [0.954353, 118], [0.9168558, 119], [0.8972145, 122], [0.96150863, 123], [0.9313567, 124], [0.96404845, 127], [0.8776079, 128], [0.94314724, 132], [0.96493715, 134], [0.87561893, 136], [0.9049056, 137], [0.87599623, 138], [0.91726536, 139], [0.96360284, 141], [0.9411033, 142], [0.96635133, 146], [0.9393713, 148], [0.94234467, 149], [0.9084364, 150], [0.92438316, 156], [0.962204, 157], [0.9628004, 158], [0.83783, 159], [0.8474531, 160], [0.9546402, 161], [0.9220196, 162], [0.6832101, 163], [0.96012837, 165], [0.95783406, 166], [0.94232273, 168], [0.94007015, 169], [0.9681786, 171], [0.85859174, 172], [0.97023946, 173], [0.6356006, 175], [0.61664706, 176], [0.94963956, 178], [0.9649917, 179]]\n"
     ]
    }
   ],
   "source": [
    "print(lista_v)"
   ]
  },
  {
   "cell_type": "markdown",
   "metadata": {},
   "source": [
    "### Verificacion de SCORES DE LABEL 1"
   ]
  },
  {
   "cell_type": "code",
   "execution_count": 64,
   "metadata": {},
   "outputs": [],
   "source": [
    "## Estoy verificando cuál es el score \"promedio\" que se le da a cada valor predicho como \"1\"\n",
    "## Para eso hago una lista de verificar scores, donde agarro solo los valores predichos como \"1\"\n",
    "\n",
    "lista_verificar_scores = []\n",
    "\n",
    "for i in range(len(lista_predichos)):\n",
    "    if lista_predicho_label[i] == 1:\n",
    "        lista_verificar_scores.append([lista_predicho_label[i],i])        \n",
    "    else:\n",
    "        pass"
   ]
  },
  {
   "cell_type": "code",
   "execution_count": 65,
   "metadata": {},
   "outputs": [],
   "source": [
    "## teniendo esta lista, hago otra lista_scores_verificacion, donde meteré los SCORES de los valores con prediccion = \"1\"\n",
    "## y si está bien, verifico que los valores que fueron predichos como 1's, son valores bajos.\n",
    "\n",
    "lista_scores_verificacion = []\n",
    "\n",
    "for i in range(len(lista_verificar_scores)):\n",
    "    z = lista_verificar_scores[i][1]\n",
    "    #z_1 = lista_predichos[i][z]\n",
    "    probabilities_verificacion = tf.nn.softmax(lista_predichos[z][0])\n",
    "        \n",
    "    lista_scores_verificacion.append([probabilities_verificacion[0][0],probabilities_verificacion[0][1]])"
   ]
  },
  {
   "cell_type": "code",
   "execution_count": 66,
   "metadata": {},
   "outputs": [],
   "source": [
    "lista_p = []\n",
    "for i in range(len(lista_scores_verificacion)):\n",
    "    p = lista_scores_verificacion[i][1].numpy()\n",
    "    lista_p.append(p)\n"
   ]
  },
  {
   "cell_type": "code",
   "execution_count": 67,
   "metadata": {},
   "outputs": [
    {
     "name": "stdout",
     "output_type": "stream",
     "text": [
      "0.5873655\n",
      "0.5507858395576477\n",
      "0.5812680721282959\n",
      "0.6213275790214539\n"
     ]
    }
   ],
   "source": [
    "import statistics as stat\n",
    "\n",
    "print(np.mean(lista_p))\n",
    "print(np.percentile(lista_p, 25))\n",
    "print(np.percentile(lista_p, 50))\n",
    "print(np.percentile(lista_p, 75))\n",
    "\n",
    "# Confirmo que si son valores bajos (las porbabilidades) los labels \"1\"\n",
    "# Tiene sentido porque es la CLASE MINORITARIA"
   ]
  },
  {
   "cell_type": "markdown",
   "metadata": {},
   "source": [
    "##### Termina la verificación"
   ]
  },
  {
   "cell_type": "code",
   "execution_count": 68,
   "metadata": {},
   "outputs": [],
   "source": [
    "lista_v2 = []\n",
    "for i in lista_v:\n",
    "    x = i[1]\n",
    "    lista_v2.append(x)"
   ]
  },
  {
   "cell_type": "code",
   "execution_count": 69,
   "metadata": {},
   "outputs": [
    {
     "name": "stdout",
     "output_type": "stream",
     "text": [
      "[0, 1, 2, 5, 6, 7, 9, 10, 11, 12, 13, 14, 15, 17, 19, 20, 21, 23, 24, 26, 27, 30, 31, 32, 33, 34, 35, 37, 38, 39, 40, 41, 42, 44, 46, 48, 49, 50, 51, 53, 55, 56, 57, 60, 61, 63, 65, 69, 74, 75, 76, 77, 78, 79, 80, 81, 83, 84, 85, 86, 87, 88, 90, 91, 92, 93, 94, 95, 101, 103, 104, 105, 108, 109, 110, 111, 113, 114, 115, 116, 118, 119, 122, 123, 124, 127, 128, 132, 134, 136, 137, 138, 139, 141, 142, 146, 148, 149, 150, 156, 157, 158, 159, 160, 161, 162, 163, 165, 166, 168, 169, 171, 172, 173, 175, 176, 178, 179]\n"
     ]
    }
   ],
   "source": [
    "print(lista_v2)"
   ]
  },
  {
   "cell_type": "code",
   "execution_count": 70,
   "metadata": {},
   "outputs": [
    {
     "data": {
      "text/plain": [
       "118"
      ]
     },
     "execution_count": 70,
     "metadata": {},
     "output_type": "execute_result"
    }
   ],
   "source": [
    "len(lista_v2)"
   ]
  },
  {
   "cell_type": "code",
   "execution_count": 71,
   "metadata": {},
   "outputs": [],
   "source": [
    "lista_v3 = []\n",
    "for i in lista_v2:\n",
    "    x = lista_predicho_label[i]    \n",
    "    lista_v3.append(x)"
   ]
  },
  {
   "cell_type": "code",
   "execution_count": 72,
   "metadata": {},
   "outputs": [
    {
     "name": "stdout",
     "output_type": "stream",
     "text": [
      "[0, 0, 0, 1, 0, 0, 0, 0, 0, 0, 1, 1, 0, 0, 0, 0, 0, 0, 0, 0, 0, 0, 0, 0, 0, 0, 0, 0, 0, 1, 0, 0, 1, 0, 1, 0, 1, 0, 0, 0, 0, 0, 0, 0, 0, 0, 0, 0, 0, 0, 0, 0, 0, 0, 0, 1, 0, 0, 0, 0, 1, 0, 0, 0, 0, 1, 0, 1, 0, 1, 0, 1, 0, 0, 0, 0, 0, 0, 0, 0, 0, 0, 0, 0, 0, 0, 0, 0, 0, 0, 0, 0, 0, 0, 0, 0, 0, 0, 0, 0, 0, 0, 0, 0, 0, 0, 1, 0, 0, 0, 0, 0, 0, 0, 1, 1, 0, 0]\n"
     ]
    }
   ],
   "source": [
    "print(lista_v3)"
   ]
  },
  {
   "cell_type": "code",
   "execution_count": 73,
   "metadata": {},
   "outputs": [
    {
     "data": {
      "text/plain": [
       "118"
      ]
     },
     "execution_count": 73,
     "metadata": {},
     "output_type": "execute_result"
    }
   ],
   "source": [
    "len(lista_v3)"
   ]
  },
  {
   "cell_type": "markdown",
   "metadata": {},
   "source": [
    "### Matriz de Confusion"
   ]
  },
  {
   "cell_type": "code",
   "execution_count": 74,
   "metadata": {},
   "outputs": [
    {
     "name": "stdout",
     "output_type": "stream",
     "text": [
      "[[263  23]\n",
      " [ 48  52]]\n"
     ]
    },
    {
     "data": {
      "image/png": "[encoded data removed]",
      "text/plain": [
       "<Figure size 432x288 with 2 Axes>"
      ]
     },
     "metadata": {
      "needs_background": "light"
     },
     "output_type": "display_data"
    }
   ],
   "source": [
    "from sklearn.metrics import confusion_matrix, ConfusionMatrixDisplay\n",
    "import matplotlib.pyplot as plt\n",
    "import numpy\n",
    "\n",
    "# Create a confusion matrix\n",
    "conf_mat = confusion_matrix(test_labels, lista_predicho_label)\n",
    "\n",
    "# Print the confusion matrix\n",
    "print(conf_mat)\n",
    "\n",
    "confusion_matrix = confusion_matrix(test_labels, lista_predicho_label)\n",
    "\n",
    "cm_display = ConfusionMatrixDisplay(confusion_matrix = confusion_matrix, display_labels = [0, 1])\n",
    "\n",
    "cm_display.plot()\n",
    "plt.show()"
   ]
  },
  {
   "cell_type": "code",
   "execution_count": 75,
   "metadata": {
    "scrolled": false
   },
   "outputs": [
    {
     "name": "stdout",
     "output_type": "stream",
     "text": [
      "Accuracy: 0.816\n",
      "Precision: 0.769\n",
      "Recall: 0.720\n",
      "F1 score: 0.738\n"
     ]
    }
   ],
   "source": [
    "from sklearn.metrics import accuracy_score, precision_score, recall_score, f1_score\n",
    "\n",
    "# Calculate the metrics\n",
    "accuracy = accuracy_score(test_labels, lista_predicho_label)\n",
    "precision = precision_score(test_labels, lista_predicho_label, average='macro')\n",
    "recall = recall_score(test_labels, lista_predicho_label, average='macro')\n",
    "f1 = f1_score(test_labels, lista_predicho_label, average='macro')\n",
    "\n",
    "# Print the metrics\n",
    "print(f\"Accuracy: {accuracy:.3f}\")\n",
    "print(f\"Precision: {precision:.3f}\")\n",
    "print(f\"Recall: {recall:.3f}\")\n",
    "print(f\"F1 score: {f1:.3f}\")\n",
    "\n",
    "# Accuracy: 0.839\n",
    "# Precision: 0.810\n",
    "# Recall: 0.745\n",
    "# F1 score: 0.768"
   ]
  },
  {
   "cell_type": "code",
   "execution_count": null,
   "metadata": {},
   "outputs": [],
   "source": [
    "# Accuracy: 0.816\n",
    "# Precision: 0.769\n",
    "# Recall: 0.720\n",
    "# F1 score: 0.738"
   ]
  },
  {
   "cell_type": "markdown",
   "metadata": {
    "id": "nKnySCxjogSS"
   },
   "source": [
    "### Explicar con SHAP"
   ]
  },
  {
   "cell_type": "code",
   "execution_count": 76,
   "metadata": {},
   "outputs": [],
   "source": [
    "import shap"
   ]
  },
  {
   "cell_type": "code",
   "execution_count": 77,
   "metadata": {},
   "outputs": [],
   "source": [
    "linea_ = \"i hate donald trump\" \n",
    "linea_2 = \"we need free healthcare or we are going to die\" \n",
    "\n",
    "predict_input_1 = tokenizer_fine_tuned.encode(\n",
    "    linea_,\n",
    "    truncation = True,\n",
    "    padding = True,\n",
    "    return_tensors = 'tf'\n",
    ")\n",
    "\n",
    "predict_input_2 = tokenizer_fine_tuned.encode(\n",
    "    linea_2,\n",
    "    truncation = True,\n",
    "    padding = True,\n",
    "    return_tensors = 'tf'\n",
    ")"
   ]
  },
  {
   "cell_type": "code",
   "execution_count": 78,
   "metadata": {},
   "outputs": [
    {
     "name": "stdout",
     "output_type": "stream",
     "text": [
      "i hate donald trump\n"
     ]
    },
    {
     "data": {
      "text/plain": [
       "1"
      ]
     },
     "execution_count": 78,
     "metadata": {},
     "output_type": "execute_result"
    }
   ],
   "source": [
    "output_1 = model_fine_tuned(predict_input_1)[0]\n",
    "\n",
    "prediction_value_1 = tf.argmax(output_1, axis = 1).numpy()[0]\n",
    "print(linea_)\n",
    "prediction_value_1\n",
    "\n",
    "# 0  es neutro "
   ]
  },
  {
   "cell_type": "code",
   "execution_count": 79,
   "metadata": {},
   "outputs": [
    {
     "name": "stdout",
     "output_type": "stream",
     "text": [
      "we need free healthcare or we are going to die\n"
     ]
    },
    {
     "data": {
      "text/plain": [
       "1"
      ]
     },
     "execution_count": 79,
     "metadata": {},
     "output_type": "execute_result"
    }
   ],
   "source": [
    "output_2 = model_fine_tuned(predict_input_2)[0]\n",
    "\n",
    "prediction_value_2 = tf.argmax(output_2, axis = 1).numpy()[0]\n",
    "print(linea_2)\n",
    "prediction_value_2\n",
    "# 1 es partisan"
   ]
  },
  {
   "cell_type": "markdown",
   "metadata": {},
   "source": [
    "Textos a usar son los textos que obtuvieron un score significativo"
   ]
  },
  {
   "cell_type": "code",
   "execution_count": 80,
   "metadata": {},
   "outputs": [],
   "source": [
    "textos_para_shap = []\n",
    "for i in lista_v2:\n",
    "    texto_para_shap = test_texts[i]\n",
    "    textos_para_shap.append(texto_para_shap)"
   ]
  },
  {
   "cell_type": "code",
   "execution_count": 81,
   "metadata": {},
   "outputs": [],
   "source": [
    "# textos_para_shap"
   ]
  },
  {
   "cell_type": "markdown",
   "metadata": {},
   "source": [
    "#### Creamos un pipeline con nuestro modelo para meterlo a SHAP"
   ]
  },
  {
   "cell_type": "code",
   "execution_count": 82,
   "metadata": {},
   "outputs": [
    {
     "name": "stdout",
     "output_type": "stream",
     "text": [
      "0\n"
     ]
    }
   ],
   "source": [
    "from transformers import (AutoTokenizer, \n",
    "                          AutoModelForSequenceClassification, \n",
    "                          TextClassificationPipeline)\n",
    "\n",
    "pipe = TextClassificationPipeline(model=model_fine_tuned, tokenizer=tokenizer_fine_tuned, \n",
    "                                  return_all_scores=True, device=0, )\n",
    "print(pipe.device) ## El pipe no está en el GPU (por eso sale -1 (false) Pero si el model_fine_tuned y el tokenizer_fine_tuned)"
   ]
  },
  {
   "cell_type": "code",
   "execution_count": 83,
   "metadata": {},
   "outputs": [
    {
     "data": {
      "text/plain": [
       "[PhysicalDevice(name='/physical_device:CPU:0', device_type='CPU'),\n",
       " PhysicalDevice(name='/physical_device:GPU:0', device_type='GPU')]"
      ]
     },
     "execution_count": 83,
     "metadata": {},
     "output_type": "execute_result"
    }
   ],
   "source": [
    "tf.config.experimental.list_physical_devices()"
   ]
  },
  {
   "cell_type": "code",
   "execution_count": 84,
   "metadata": {},
   "outputs": [
    {
     "data": {
      "text/plain": [
       "118"
      ]
     },
     "execution_count": 84,
     "metadata": {},
     "output_type": "execute_result"
    }
   ],
   "source": [
    "len(textos_para_shap)"
   ]
  },
  {
   "cell_type": "code",
   "execution_count": 95,
   "metadata": {},
   "outputs": [
    {
     "name": "stdout",
     "output_type": "stream",
     "text": [
      "Wall time: 0 ns\n"
     ]
    }
   ],
   "source": [
    "%%time\n",
    "\n",
    "import time\n",
    "time_1 = time.time()"
   ]
  },
  {
   "cell_type": "code",
   "execution_count": 96,
   "metadata": {},
   "outputs": [
    {
     "name": "stderr",
     "output_type": "stream",
     "text": [
      "Partition explainer:  11%|██████▌                                                     | 13/118 [00:47<07:38,  4.37s/it]\n",
      "  0%|                                                                                          | 0/498 [00:00<?, ?it/s]\u001b[A\n",
      "504it [00:00, 4581.98it/s]                                                                                             \u001b[A\n",
      "Partition explainer:  29%|█████████████████▎                                          | 34/118 [02:00<05:30,  3.94s/it]\n",
      "  0%|                                                                                          | 0/498 [00:00<?, ?it/s]\u001b[A\n",
      "Partition explainer:  30%|█████████████████▊                                          | 35/118 [02:06<05:59,  4.33s/it]\u001b[A\n",
      "  0%|                                                                                          | 0/498 [00:00<?, ?it/s]\u001b[A\n",
      "Partition explainer:  34%|████████████████████▎                                       | 40/118 [02:21<04:22,  3.36s/it]\u001b[A\n",
      "  0%|                                                                                          | 0/498 [00:00<?, ?it/s]\u001b[A\n",
      "504it [00:00, 3937.57it/s]                                                                                             \u001b[A\n",
      "Partition explainer:  54%|████████████████████████████████▌                           | 64/118 [03:51<03:17,  3.66s/it]\n",
      "  0%|                                                                                          | 0/498 [00:00<?, ?it/s]\u001b[A\n",
      "Partition explainer:  85%|██████████████████████████████████████████████████         | 100/118 [06:02<01:13,  4.06s/it]\u001b[A\n",
      "  0%|                                                                                          | 0/498 [00:00<?, ?it/s]\u001b[A\n",
      " 32%|████████████████████████▋                                                     | 158/498 [00:00<00:00, 1462.94it/s]\u001b[A\n",
      " 62%|████████████████████████████████████████████████▊                              | 308/498 [00:01<00:01, 185.14it/s]\u001b[A\n",
      " 76%|████████████████████████████████████████████████████████████▎                  | 380/498 [00:02<00:00, 156.06it/s]\u001b[A\n",
      " 85%|██████████████████████████████████████████████████████████████████▉            | 422/498 [00:02<00:00, 145.23it/s]\u001b[A\n",
      " 91%|███████████████████████████████████████████████████████████████████████▋       | 452/498 [00:02<00:00, 137.89it/s]\u001b[A\n",
      " 96%|███████████████████████████████████████████████████████████████████████████▌   | 476/498 [00:02<00:00, 131.49it/s]\u001b[A\n",
      "500it [00:03, 126.11it/s]                                                                                              \u001b[A\n",
      "Partition explainer: 119it [07:12,  3.73s/it]                                                                          "
     ]
    },
    {
     "name": "stdout",
     "output_type": "stream",
     "text": [
      "Wall time: 7min 12s\n"
     ]
    },
    {
     "name": "stderr",
     "output_type": "stream",
     "text": [
      "\n"
     ]
    }
   ],
   "source": [
    "%%time\n",
    "\n",
    "explainer = shap.Explainer(pipe)\n",
    "shap_values = explainer(textos_para_shap)"
   ]
  },
  {
   "cell_type": "markdown",
   "metadata": {},
   "source": [
    "Algo que ocurre en la explciacion de SHAP, es que el modelo de cierta forma hace un \"overfit\" a algunas palabras como OBAMA, HEALTH y otras, sin detectr exactamente el contexto o la razon por la cual el *texto* es clasificado de una u otra forma. Esto tiene sentido ya que la data qu se tiene es de mala calidad."
   ]
  },
  {
   "cell_type": "code",
   "execution_count": 91,
   "metadata": {},
   "outputs": [
    {
     "name": "stdout",
     "output_type": "stream",
     "text": [
      "447.987713098526\n"
     ]
    }
   ],
   "source": [
    "time_2 = time.time()\n",
    "print(time_2 - time_1)"
   ]
  },
  {
   "cell_type": "code",
   "execution_count": 92,
   "metadata": {},
   "outputs": [
    {
     "data": {
      "text/plain": [
       "7.466333333333334"
      ]
     },
     "execution_count": 92,
     "metadata": {},
     "output_type": "execute_result"
    }
   ],
   "source": [
    "447.98/60\n",
    "\n",
    "## Toma 7 minutos y 12 segundos cuando uso DEVICE=0 en el PIPELINE,\n",
    "## Es mas caundo hago el print(pipe.device) sale device 0 (VREDADERO), osea esta usando o apoyandose en el GPU."
   ]
  },
  {
   "cell_type": "code",
   "execution_count": null,
   "metadata": {},
   "outputs": [],
   "source": [
    "## explainer sin permutation tomaba 45 min\n",
    "## explainer con PERMUTATION toma 58 min"
   ]
  },
  {
   "cell_type": "code",
   "execution_count": null,
   "metadata": {},
   "outputs": [],
   "source": [
    "# 20 54\n",
    "\n",
    "# 40 min"
   ]
  },
  {
   "cell_type": "code",
   "execution_count": 206,
   "metadata": {},
   "outputs": [
    {
     "name": "stdout",
     "output_type": "stream",
     "text": [
      "[0.6371502, 177]\n"
     ]
    }
   ],
   "source": [
    "# 0 neutro / 1 partisano\n",
    "print(lista_v[120])"
   ]
  },
  {
   "cell_type": "code",
   "execution_count": 207,
   "metadata": {},
   "outputs": [
    {
     "name": "stdout",
     "output_type": "stream",
     "text": [
      "1\n"
     ]
    }
   ],
   "source": [
    "print(lista_v3[120])"
   ]
  },
  {
   "cell_type": "code",
   "execution_count": 209,
   "metadata": {},
   "outputs": [
    {
     "data": {
      "text/plain": [
       "0"
      ]
     },
     "execution_count": 209,
     "metadata": {},
     "output_type": "execute_result"
    }
   ],
   "source": [
    "# En lista LABELS tenemos que poner como índice al índice que obtuvimos en lista_v, \n",
    "# porque ese índice es el índice de la predicción\n",
    "# el nuevo índice va del 0 al 123, pero el antiguo va del 0 al 300+\n",
    "test_labels[177]"
   ]
  },
  {
   "cell_type": "code",
   "execution_count": 210,
   "metadata": {},
   "outputs": [
    {
     "data": {
      "text/plain": [
       "[<tf.Tensor: shape=(), dtype=float32, numpy=0.3628497>,\n",
       " <tf.Tensor: shape=(), dtype=float32, numpy=0.6371502>]"
      ]
     },
     "execution_count": 210,
     "metadata": {},
     "output_type": "execute_result"
    }
   ],
   "source": [
    "# En lista SCORES tenemos que poner como índice al índice que obtuvimos en lista_v, \n",
    "# porque ese índice es el índice de la predicción\n",
    "# el nuevo índice va del 0 al 123, pero el antiguo va del 0 al 300+\n",
    "lista_scores[177]\n",
    "## Verificar que sea el mayor % para 1 (partisan)"
   ]
  },
  {
   "cell_type": "code",
   "execution_count": null,
   "metadata": {},
   "outputs": [],
   "source": []
  },
  {
   "cell_type": "code",
   "execution_count": null,
   "metadata": {},
   "outputs": [],
   "source": [
    "# https://datascience.stackexchange.com/questions/113359/why-there-is-no-preprocessing-step-for-training-bert"
   ]
  },
  {
   "cell_type": "code",
   "execution_count": null,
   "metadata": {},
   "outputs": [],
   "source": []
  }
 ],
 "metadata": {
  "accelerator": "GPU",
  "colab": {
   "gpuType": "T4",
   "provenance": []
  },
  "kernelspec": {
   "display_name": "cuda_ambientesu",
   "language": "python",
   "name": "cuda_ambientesu"
  },
  "language_info": {
   "codemirror_mode": {
    "name": "ipython",
    "version": 3
   },
   "file_extension": ".py",
   "mimetype": "text/x-python",
   "name": "python",
   "nbconvert_exporter": "python",
   "pygments_lexer": "ipython3",
   "version": "3.6.15"
  },
  "widgets": {
   "application/vnd.jupyter.widget-state+json": {
    "02f842a11f9e41e5935fbc2f59d29ec7": {
     "model_module": "@jupyter-widgets/base",
     "model_module_version": "1.2.0",
     "model_name": "LayoutModel",
     "state": {
      "_model_module": "@jupyter-widgets/base",
      "_model_module_version": "1.2.0",
      "_model_name": "LayoutModel",
      "_view_count": null,
      "_view_module": "@jupyter-widgets/base",
      "_view_module_version": "1.2.0",
      "_view_name": "LayoutView",
      "align_content": null,
      "align_items": null,
      "align_self": null,
      "border": null,
      "bottom": null,
      "display": null,
      "flex": null,
      "flex_flow": null,
      "grid_area": null,
      "grid_auto_columns": null,
      "grid_auto_flow": null,
      "grid_auto_rows": null,
      "grid_column": null,
      "grid_gap": null,
      "grid_row": null,
      "grid_template_areas": null,
      "grid_template_columns": null,
      "grid_template_rows": null,
      "height": null,
      "justify_content": null,
      "justify_items": null,
      "left": null,
      "margin": null,
      "max_height": null,
      "max_width": null,
      "min_height": null,
      "min_width": null,
      "object_fit": null,
      "object_position": null,
      "order": null,
      "overflow": null,
      "overflow_x": null,
      "overflow_y": null,
      "padding": null,
      "right": null,
      "top": null,
      "visibility": null,
      "width": null
     }
    },
    "10b5045df5e94bd09ff1092c5aef036b": {
     "model_module": "@jupyter-widgets/controls",
     "model_module_version": "1.5.0",
     "model_name": "FloatProgressModel",
     "state": {
      "_dom_classes": [],
      "_model_module": "@jupyter-widgets/controls",
      "_model_module_version": "1.5.0",
      "_model_name": "FloatProgressModel",
      "_view_count": null,
      "_view_module": "@jupyter-widgets/controls",
      "_view_module_version": "1.5.0",
      "_view_name": "ProgressView",
      "bar_style": "success",
      "description": "",
      "description_tooltip": null,
      "layout": "IPY_MODEL_6d278989d3ca497aaafe729220f579dd",
      "max": 231508,
      "min": 0,
      "orientation": "horizontal",
      "style": "IPY_MODEL_2c2038b0693a478da44097f22388e65e",
      "value": 231508
     }
    },
    "14897a3cd6074089b50ec9f4d1d22d1a": {
     "model_module": "@jupyter-widgets/controls",
     "model_module_version": "1.5.0",
     "model_name": "DescriptionStyleModel",
     "state": {
      "_model_module": "@jupyter-widgets/controls",
      "_model_module_version": "1.5.0",
      "_model_name": "DescriptionStyleModel",
      "_view_count": null,
      "_view_module": "@jupyter-widgets/base",
      "_view_module_version": "1.2.0",
      "_view_name": "StyleView",
      "description_width": ""
     }
    },
    "17926179392c49978cfec07265e612a0": {
     "model_module": "@jupyter-widgets/controls",
     "model_module_version": "1.5.0",
     "model_name": "HBoxModel",
     "state": {
      "_dom_classes": [],
      "_model_module": "@jupyter-widgets/controls",
      "_model_module_version": "1.5.0",
      "_model_name": "HBoxModel",
      "_view_count": null,
      "_view_module": "@jupyter-widgets/controls",
      "_view_module_version": "1.5.0",
      "_view_name": "HBoxView",
      "box_style": "",
      "children": [
       "IPY_MODEL_cf46ba0e95b84a4eb0d813340281e6f3",
       "IPY_MODEL_10b5045df5e94bd09ff1092c5aef036b",
       "IPY_MODEL_a26f08cecf574f379ffea0990182f24c"
      ],
      "layout": "IPY_MODEL_a76bd2bdc5254564a612f005fc34d8ae"
     }
    },
    "29999d04b5374974a6191fc8c28bd0b4": {
     "model_module": "@jupyter-widgets/controls",
     "model_module_version": "1.5.0",
     "model_name": "FloatProgressModel",
     "state": {
      "_dom_classes": [],
      "_model_module": "@jupyter-widgets/controls",
      "_model_module_version": "1.5.0",
      "_model_name": "FloatProgressModel",
      "_view_count": null,
      "_view_module": "@jupyter-widgets/controls",
      "_view_module_version": "1.5.0",
      "_view_name": "ProgressView",
      "bar_style": "success",
      "description": "",
      "description_tooltip": null,
      "layout": "IPY_MODEL_8d840491938f4fc69ad2fc0987ed8c97",
      "max": 48,
      "min": 0,
      "orientation": "horizontal",
      "style": "IPY_MODEL_9880b565a65b40f3810867645ca33dae",
      "value": 48
     }
    },
    "2b6dfef429a543589fb500770374b03e": {
     "model_module": "@jupyter-widgets/controls",
     "model_module_version": "1.5.0",
     "model_name": "HTMLModel",
     "state": {
      "_dom_classes": [],
      "_model_module": "@jupyter-widgets/controls",
      "_model_module_version": "1.5.0",
      "_model_name": "HTMLModel",
      "_view_count": null,
      "_view_module": "@jupyter-widgets/controls",
      "_view_module_version": "1.5.0",
      "_view_name": "HTMLView",
      "description": "",
      "description_tooltip": null,
      "layout": "IPY_MODEL_ddc3d32f109d45629614a766f4690ec8",
      "placeholder": "​",
      "style": "IPY_MODEL_ed4e227dd6d64721a48409230646af59",
      "value": " 48.0/48.0 [00:00&lt;00:00, 2.18kB/s]"
     }
    },
    "2c2038b0693a478da44097f22388e65e": {
     "model_module": "@jupyter-widgets/controls",
     "model_module_version": "1.5.0",
     "model_name": "ProgressStyleModel",
     "state": {
      "_model_module": "@jupyter-widgets/controls",
      "_model_module_version": "1.5.0",
      "_model_name": "ProgressStyleModel",
      "_view_count": null,
      "_view_module": "@jupyter-widgets/base",
      "_view_module_version": "1.2.0",
      "_view_name": "StyleView",
      "bar_color": null,
      "description_width": ""
     }
    },
    "39d37ee9f2a648c687e1cf5781e94ca0": {
     "model_module": "@jupyter-widgets/base",
     "model_module_version": "1.2.0",
     "model_name": "LayoutModel",
     "state": {
      "_model_module": "@jupyter-widgets/base",
      "_model_module_version": "1.2.0",
      "_model_name": "LayoutModel",
      "_view_count": null,
      "_view_module": "@jupyter-widgets/base",
      "_view_module_version": "1.2.0",
      "_view_name": "LayoutView",
      "align_content": null,
      "align_items": null,
      "align_self": null,
      "border": null,
      "bottom": null,
      "display": null,
      "flex": null,
      "flex_flow": null,
      "grid_area": null,
      "grid_auto_columns": null,
      "grid_auto_flow": null,
      "grid_auto_rows": null,
      "grid_column": null,
      "grid_gap": null,
      "grid_row": null,
      "grid_template_areas": null,
      "grid_template_columns": null,
      "grid_template_rows": null,
      "height": null,
      "justify_content": null,
      "justify_items": null,
      "left": null,
      "margin": null,
      "max_height": null,
      "max_width": null,
      "min_height": null,
      "min_width": null,
      "object_fit": null,
      "object_position": null,
      "order": null,
      "overflow": null,
      "overflow_x": null,
      "overflow_y": null,
      "padding": null,
      "right": null,
      "top": null,
      "visibility": null,
      "width": null
     }
    },
    "46b5a81f8fff496387abfd79280981d5": {
     "model_module": "@jupyter-widgets/controls",
     "model_module_version": "1.5.0",
     "model_name": "HTMLModel",
     "state": {
      "_dom_classes": [],
      "_model_module": "@jupyter-widgets/controls",
      "_model_module_version": "1.5.0",
      "_model_name": "HTMLModel",
      "_view_count": null,
      "_view_module": "@jupyter-widgets/controls",
      "_view_module_version": "1.5.0",
      "_view_name": "HTMLView",
      "description": "",
      "description_tooltip": null,
      "layout": "IPY_MODEL_db5ac35ec4fd40ca821e96bee7578b63",
      "placeholder": "​",
      "style": "IPY_MODEL_490cb484353741909ed4dde647594179",
      "value": " 483/483 [00:00&lt;00:00, 31.0kB/s]"
     }
    },
    "490cb484353741909ed4dde647594179": {
     "model_module": "@jupyter-widgets/controls",
     "model_module_version": "1.5.0",
     "model_name": "DescriptionStyleModel",
     "state": {
      "_model_module": "@jupyter-widgets/controls",
      "_model_module_version": "1.5.0",
      "_model_name": "DescriptionStyleModel",
      "_view_count": null,
      "_view_module": "@jupyter-widgets/base",
      "_view_module_version": "1.2.0",
      "_view_name": "StyleView",
      "description_width": ""
     }
    },
    "4b30734f496249b3a0d7e74fd02c275e": {
     "model_module": "@jupyter-widgets/controls",
     "model_module_version": "1.5.0",
     "model_name": "DescriptionStyleModel",
     "state": {
      "_model_module": "@jupyter-widgets/controls",
      "_model_module_version": "1.5.0",
      "_model_name": "DescriptionStyleModel",
      "_view_count": null,
      "_view_module": "@jupyter-widgets/base",
      "_view_module_version": "1.2.0",
      "_view_name": "StyleView",
      "description_width": ""
     }
    },
    "52d37b981082408d908f0466a8a13ad9": {
     "model_module": "@jupyter-widgets/controls",
     "model_module_version": "1.5.0",
     "model_name": "FloatProgressModel",
     "state": {
      "_dom_classes": [],
      "_model_module": "@jupyter-widgets/controls",
      "_model_module_version": "1.5.0",
      "_model_name": "FloatProgressModel",
      "_view_count": null,
      "_view_module": "@jupyter-widgets/controls",
      "_view_module_version": "1.5.0",
      "_view_name": "ProgressView",
      "bar_style": "success",
      "description": "",
      "description_tooltip": null,
      "layout": "IPY_MODEL_02f842a11f9e41e5935fbc2f59d29ec7",
      "max": 483,
      "min": 0,
      "orientation": "horizontal",
      "style": "IPY_MODEL_bc786bae97d04bceb72420bc31e6a075",
      "value": 483
     }
    },
    "597a711ee30549bea0ca42dbfa21b69d": {
     "model_module": "@jupyter-widgets/controls",
     "model_module_version": "1.5.0",
     "model_name": "DescriptionStyleModel",
     "state": {
      "_model_module": "@jupyter-widgets/controls",
      "_model_module_version": "1.5.0",
      "_model_name": "DescriptionStyleModel",
      "_view_count": null,
      "_view_module": "@jupyter-widgets/base",
      "_view_module_version": "1.2.0",
      "_view_name": "StyleView",
      "description_width": ""
     }
    },
    "5bb98acaa063414591f9aa663994c8a8": {
     "model_module": "@jupyter-widgets/controls",
     "model_module_version": "1.5.0",
     "model_name": "HBoxModel",
     "state": {
      "_dom_classes": [],
      "_model_module": "@jupyter-widgets/controls",
      "_model_module_version": "1.5.0",
      "_model_name": "HBoxModel",
      "_view_count": null,
      "_view_module": "@jupyter-widgets/controls",
      "_view_module_version": "1.5.0",
      "_view_name": "HBoxView",
      "box_style": "",
      "children": [
       "IPY_MODEL_9cfce067eaea400a9b08b0dc718e07dc",
       "IPY_MODEL_29999d04b5374974a6191fc8c28bd0b4",
       "IPY_MODEL_2b6dfef429a543589fb500770374b03e"
      ],
      "layout": "IPY_MODEL_a9bbece72980493b8b8b21bd06146aed"
     }
    },
    "5cf9cacb366f420a8f478c2178827812": {
     "model_module": "@jupyter-widgets/base",
     "model_module_version": "1.2.0",
     "model_name": "LayoutModel",
     "state": {
      "_model_module": "@jupyter-widgets/base",
      "_model_module_version": "1.2.0",
      "_model_name": "LayoutModel",
      "_view_count": null,
      "_view_module": "@jupyter-widgets/base",
      "_view_module_version": "1.2.0",
      "_view_name": "LayoutView",
      "align_content": null,
      "align_items": null,
      "align_self": null,
      "border": null,
      "bottom": null,
      "display": null,
      "flex": null,
      "flex_flow": null,
      "grid_area": null,
      "grid_auto_columns": null,
      "grid_auto_flow": null,
      "grid_auto_rows": null,
      "grid_column": null,
      "grid_gap": null,
      "grid_row": null,
      "grid_template_areas": null,
      "grid_template_columns": null,
      "grid_template_rows": null,
      "height": null,
      "justify_content": null,
      "justify_items": null,
      "left": null,
      "margin": null,
      "max_height": null,
      "max_width": null,
      "min_height": null,
      "min_width": null,
      "object_fit": null,
      "object_position": null,
      "order": null,
      "overflow": null,
      "overflow_x": null,
      "overflow_y": null,
      "padding": null,
      "right": null,
      "top": null,
      "visibility": null,
      "width": null
     }
    },
    "66717bb41e1b4ab38d61339470c54ca6": {
     "model_module": "@jupyter-widgets/controls",
     "model_module_version": "1.5.0",
     "model_name": "HTMLModel",
     "state": {
      "_dom_classes": [],
      "_model_module": "@jupyter-widgets/controls",
      "_model_module_version": "1.5.0",
      "_model_name": "HTMLModel",
      "_view_count": null,
      "_view_module": "@jupyter-widgets/controls",
      "_view_module_version": "1.5.0",
      "_view_name": "HTMLView",
      "description": "",
      "description_tooltip": null,
      "layout": "IPY_MODEL_86716a6109b343d8a407ddddb55380ca",
      "placeholder": "​",
      "style": "IPY_MODEL_4b30734f496249b3a0d7e74fd02c275e",
      "value": "tf_model.h5: 100%"
     }
    },
    "6d278989d3ca497aaafe729220f579dd": {
     "model_module": "@jupyter-widgets/base",
     "model_module_version": "1.2.0",
     "model_name": "LayoutModel",
     "state": {
      "_model_module": "@jupyter-widgets/base",
      "_model_module_version": "1.2.0",
      "_model_name": "LayoutModel",
      "_view_count": null,
      "_view_module": "@jupyter-widgets/base",
      "_view_module_version": "1.2.0",
      "_view_name": "LayoutView",
      "align_content": null,
      "align_items": null,
      "align_self": null,
      "border": null,
      "bottom": null,
      "display": null,
      "flex": null,
      "flex_flow": null,
      "grid_area": null,
      "grid_auto_columns": null,
      "grid_auto_flow": null,
      "grid_auto_rows": null,
      "grid_column": null,
      "grid_gap": null,
      "grid_row": null,
      "grid_template_areas": null,
      "grid_template_columns": null,
      "grid_template_rows": null,
      "height": null,
      "justify_content": null,
      "justify_items": null,
      "left": null,
      "margin": null,
      "max_height": null,
      "max_width": null,
      "min_height": null,
      "min_width": null,
      "object_fit": null,
      "object_position": null,
      "order": null,
      "overflow": null,
      "overflow_x": null,
      "overflow_y": null,
      "padding": null,
      "right": null,
      "top": null,
      "visibility": null,
      "width": null
     }
    },
    "6f88550daf5243e09e7dce815add7354": {
     "model_module": "@jupyter-widgets/base",
     "model_module_version": "1.2.0",
     "model_name": "LayoutModel",
     "state": {
      "_model_module": "@jupyter-widgets/base",
      "_model_module_version": "1.2.0",
      "_model_name": "LayoutModel",
      "_view_count": null,
      "_view_module": "@jupyter-widgets/base",
      "_view_module_version": "1.2.0",
      "_view_name": "LayoutView",
      "align_content": null,
      "align_items": null,
      "align_self": null,
      "border": null,
      "bottom": null,
      "display": null,
      "flex": null,
      "flex_flow": null,
      "grid_area": null,
      "grid_auto_columns": null,
      "grid_auto_flow": null,
      "grid_auto_rows": null,
      "grid_column": null,
      "grid_gap": null,
      "grid_row": null,
      "grid_template_areas": null,
      "grid_template_columns": null,
      "grid_template_rows": null,
      "height": null,
      "justify_content": null,
      "justify_items": null,
      "left": null,
      "margin": null,
      "max_height": null,
      "max_width": null,
      "min_height": null,
      "min_width": null,
      "object_fit": null,
      "object_position": null,
      "order": null,
      "overflow": null,
      "overflow_x": null,
      "overflow_y": null,
      "padding": null,
      "right": null,
      "top": null,
      "visibility": null,
      "width": null
     }
    },
    "81694d6b0adf4f64a9cb75559373d588": {
     "model_module": "@jupyter-widgets/controls",
     "model_module_version": "1.5.0",
     "model_name": "HBoxModel",
     "state": {
      "_dom_classes": [],
      "_model_module": "@jupyter-widgets/controls",
      "_model_module_version": "1.5.0",
      "_model_name": "HBoxModel",
      "_view_count": null,
      "_view_module": "@jupyter-widgets/controls",
      "_view_module_version": "1.5.0",
      "_view_name": "HBoxView",
      "box_style": "",
      "children": [
       "IPY_MODEL_66717bb41e1b4ab38d61339470c54ca6",
       "IPY_MODEL_82f6deb5778f478e9ea10fc27c365412",
       "IPY_MODEL_db96c801f51a4f3fbb438d29e837314e"
      ],
      "layout": "IPY_MODEL_ea68839a38b5489b86cd87a0d3479f71"
     }
    },
    "82f6deb5778f478e9ea10fc27c365412": {
     "model_module": "@jupyter-widgets/controls",
     "model_module_version": "1.5.0",
     "model_name": "FloatProgressModel",
     "state": {
      "_dom_classes": [],
      "_model_module": "@jupyter-widgets/controls",
      "_model_module_version": "1.5.0",
      "_model_name": "FloatProgressModel",
      "_view_count": null,
      "_view_module": "@jupyter-widgets/controls",
      "_view_module_version": "1.5.0",
      "_view_name": "ProgressView",
      "bar_style": "success",
      "description": "",
      "description_tooltip": null,
      "layout": "IPY_MODEL_e1e40850811649dbbceb3b559c469b26",
      "max": 363423424,
      "min": 0,
      "orientation": "horizontal",
      "style": "IPY_MODEL_c6fb7dc4d8234df7825b9be68acfad62",
      "value": 363423424
     }
    },
    "86716a6109b343d8a407ddddb55380ca": {
     "model_module": "@jupyter-widgets/base",
     "model_module_version": "1.2.0",
     "model_name": "LayoutModel",
     "state": {
      "_model_module": "@jupyter-widgets/base",
      "_model_module_version": "1.2.0",
      "_model_name": "LayoutModel",
      "_view_count": null,
      "_view_module": "@jupyter-widgets/base",
      "_view_module_version": "1.2.0",
      "_view_name": "LayoutView",
      "align_content": null,
      "align_items": null,
      "align_self": null,
      "border": null,
      "bottom": null,
      "display": null,
      "flex": null,
      "flex_flow": null,
      "grid_area": null,
      "grid_auto_columns": null,
      "grid_auto_flow": null,
      "grid_auto_rows": null,
      "grid_column": null,
      "grid_gap": null,
      "grid_row": null,
      "grid_template_areas": null,
      "grid_template_columns": null,
      "grid_template_rows": null,
      "height": null,
      "justify_content": null,
      "justify_items": null,
      "left": null,
      "margin": null,
      "max_height": null,
      "max_width": null,
      "min_height": null,
      "min_width": null,
      "object_fit": null,
      "object_position": null,
      "order": null,
      "overflow": null,
      "overflow_x": null,
      "overflow_y": null,
      "padding": null,
      "right": null,
      "top": null,
      "visibility": null,
      "width": null
     }
    },
    "8b5fa3cb22a44ab0924d2a882eade826": {
     "model_module": "@jupyter-widgets/controls",
     "model_module_version": "1.5.0",
     "model_name": "HBoxModel",
     "state": {
      "_dom_classes": [],
      "_model_module": "@jupyter-widgets/controls",
      "_model_module_version": "1.5.0",
      "_model_name": "HBoxModel",
      "_view_count": null,
      "_view_module": "@jupyter-widgets/controls",
      "_view_module_version": "1.5.0",
      "_view_name": "HBoxView",
      "box_style": "",
      "children": [
       "IPY_MODEL_a8a4c4a5547842e68ffa7bbd7ec09f54",
       "IPY_MODEL_52d37b981082408d908f0466a8a13ad9",
       "IPY_MODEL_46b5a81f8fff496387abfd79280981d5"
      ],
      "layout": "IPY_MODEL_af40263a965246028527a913c3f4cb8c"
     }
    },
    "8c450fa0d9294bc6a9677a525d12ebad": {
     "model_module": "@jupyter-widgets/base",
     "model_module_version": "1.2.0",
     "model_name": "LayoutModel",
     "state": {
      "_model_module": "@jupyter-widgets/base",
      "_model_module_version": "1.2.0",
      "_model_name": "LayoutModel",
      "_view_count": null,
      "_view_module": "@jupyter-widgets/base",
      "_view_module_version": "1.2.0",
      "_view_name": "LayoutView",
      "align_content": null,
      "align_items": null,
      "align_self": null,
      "border": null,
      "bottom": null,
      "display": null,
      "flex": null,
      "flex_flow": null,
      "grid_area": null,
      "grid_auto_columns": null,
      "grid_auto_flow": null,
      "grid_auto_rows": null,
      "grid_column": null,
      "grid_gap": null,
      "grid_row": null,
      "grid_template_areas": null,
      "grid_template_columns": null,
      "grid_template_rows": null,
      "height": null,
      "justify_content": null,
      "justify_items": null,
      "left": null,
      "margin": null,
      "max_height": null,
      "max_width": null,
      "min_height": null,
      "min_width": null,
      "object_fit": null,
      "object_position": null,
      "order": null,
      "overflow": null,
      "overflow_x": null,
      "overflow_y": null,
      "padding": null,
      "right": null,
      "top": null,
      "visibility": null,
      "width": null
     }
    },
    "8d840491938f4fc69ad2fc0987ed8c97": {
     "model_module": "@jupyter-widgets/base",
     "model_module_version": "1.2.0",
     "model_name": "LayoutModel",
     "state": {
      "_model_module": "@jupyter-widgets/base",
      "_model_module_version": "1.2.0",
      "_model_name": "LayoutModel",
      "_view_count": null,
      "_view_module": "@jupyter-widgets/base",
      "_view_module_version": "1.2.0",
      "_view_name": "LayoutView",
      "align_content": null,
      "align_items": null,
      "align_self": null,
      "border": null,
      "bottom": null,
      "display": null,
      "flex": null,
      "flex_flow": null,
      "grid_area": null,
      "grid_auto_columns": null,
      "grid_auto_flow": null,
      "grid_auto_rows": null,
      "grid_column": null,
      "grid_gap": null,
      "grid_row": null,
      "grid_template_areas": null,
      "grid_template_columns": null,
      "grid_template_rows": null,
      "height": null,
      "justify_content": null,
      "justify_items": null,
      "left": null,
      "margin": null,
      "max_height": null,
      "max_width": null,
      "min_height": null,
      "min_width": null,
      "object_fit": null,
      "object_position": null,
      "order": null,
      "overflow": null,
      "overflow_x": null,
      "overflow_y": null,
      "padding": null,
      "right": null,
      "top": null,
      "visibility": null,
      "width": null
     }
    },
    "9880b565a65b40f3810867645ca33dae": {
     "model_module": "@jupyter-widgets/controls",
     "model_module_version": "1.5.0",
     "model_name": "ProgressStyleModel",
     "state": {
      "_model_module": "@jupyter-widgets/controls",
      "_model_module_version": "1.5.0",
      "_model_name": "ProgressStyleModel",
      "_view_count": null,
      "_view_module": "@jupyter-widgets/base",
      "_view_module_version": "1.2.0",
      "_view_name": "StyleView",
      "bar_color": null,
      "description_width": ""
     }
    },
    "9cfce067eaea400a9b08b0dc718e07dc": {
     "model_module": "@jupyter-widgets/controls",
     "model_module_version": "1.5.0",
     "model_name": "HTMLModel",
     "state": {
      "_dom_classes": [],
      "_model_module": "@jupyter-widgets/controls",
      "_model_module_version": "1.5.0",
      "_model_name": "HTMLModel",
      "_view_count": null,
      "_view_module": "@jupyter-widgets/controls",
      "_view_module_version": "1.5.0",
      "_view_name": "HTMLView",
      "description": "",
      "description_tooltip": null,
      "layout": "IPY_MODEL_6f88550daf5243e09e7dce815add7354",
      "placeholder": "​",
      "style": "IPY_MODEL_597a711ee30549bea0ca42dbfa21b69d",
      "value": "tokenizer_config.json: 100%"
     }
    },
    "a26f08cecf574f379ffea0990182f24c": {
     "model_module": "@jupyter-widgets/controls",
     "model_module_version": "1.5.0",
     "model_name": "HTMLModel",
     "state": {
      "_dom_classes": [],
      "_model_module": "@jupyter-widgets/controls",
      "_model_module_version": "1.5.0",
      "_model_name": "HTMLModel",
      "_view_count": null,
      "_view_module": "@jupyter-widgets/controls",
      "_view_module_version": "1.5.0",
      "_view_name": "HTMLView",
      "description": "",
      "description_tooltip": null,
      "layout": "IPY_MODEL_8c450fa0d9294bc6a9677a525d12ebad",
      "placeholder": "​",
      "style": "IPY_MODEL_bd2f4df3b4bb4b32a3e45af216d0ed9e",
      "value": " 232k/232k [00:00&lt;00:00, 2.86MB/s]"
     }
    },
    "a3169629a9534c48b5cd71760803033f": {
     "model_module": "@jupyter-widgets/base",
     "model_module_version": "1.2.0",
     "model_name": "LayoutModel",
     "state": {
      "_model_module": "@jupyter-widgets/base",
      "_model_module_version": "1.2.0",
      "_model_name": "LayoutModel",
      "_view_count": null,
      "_view_module": "@jupyter-widgets/base",
      "_view_module_version": "1.2.0",
      "_view_name": "LayoutView",
      "align_content": null,
      "align_items": null,
      "align_self": null,
      "border": null,
      "bottom": null,
      "display": null,
      "flex": null,
      "flex_flow": null,
      "grid_area": null,
      "grid_auto_columns": null,
      "grid_auto_flow": null,
      "grid_auto_rows": null,
      "grid_column": null,
      "grid_gap": null,
      "grid_row": null,
      "grid_template_areas": null,
      "grid_template_columns": null,
      "grid_template_rows": null,
      "height": null,
      "justify_content": null,
      "justify_items": null,
      "left": null,
      "margin": null,
      "max_height": null,
      "max_width": null,
      "min_height": null,
      "min_width": null,
      "object_fit": null,
      "object_position": null,
      "order": null,
      "overflow": null,
      "overflow_x": null,
      "overflow_y": null,
      "padding": null,
      "right": null,
      "top": null,
      "visibility": null,
      "width": null
     }
    },
    "a674c82159dd41f1995a83992eb2cdce": {
     "model_module": "@jupyter-widgets/controls",
     "model_module_version": "1.5.0",
     "model_name": "DescriptionStyleModel",
     "state": {
      "_model_module": "@jupyter-widgets/controls",
      "_model_module_version": "1.5.0",
      "_model_name": "DescriptionStyleModel",
      "_view_count": null,
      "_view_module": "@jupyter-widgets/base",
      "_view_module_version": "1.2.0",
      "_view_name": "StyleView",
      "description_width": ""
     }
    },
    "a76bd2bdc5254564a612f005fc34d8ae": {
     "model_module": "@jupyter-widgets/base",
     "model_module_version": "1.2.0",
     "model_name": "LayoutModel",
     "state": {
      "_model_module": "@jupyter-widgets/base",
      "_model_module_version": "1.2.0",
      "_model_name": "LayoutModel",
      "_view_count": null,
      "_view_module": "@jupyter-widgets/base",
      "_view_module_version": "1.2.0",
      "_view_name": "LayoutView",
      "align_content": null,
      "align_items": null,
      "align_self": null,
      "border": null,
      "bottom": null,
      "display": null,
      "flex": null,
      "flex_flow": null,
      "grid_area": null,
      "grid_auto_columns": null,
      "grid_auto_flow": null,
      "grid_auto_rows": null,
      "grid_column": null,
      "grid_gap": null,
      "grid_row": null,
      "grid_template_areas": null,
      "grid_template_columns": null,
      "grid_template_rows": null,
      "height": null,
      "justify_content": null,
      "justify_items": null,
      "left": null,
      "margin": null,
      "max_height": null,
      "max_width": null,
      "min_height": null,
      "min_width": null,
      "object_fit": null,
      "object_position": null,
      "order": null,
      "overflow": null,
      "overflow_x": null,
      "overflow_y": null,
      "padding": null,
      "right": null,
      "top": null,
      "visibility": null,
      "width": null
     }
    },
    "a8a4c4a5547842e68ffa7bbd7ec09f54": {
     "model_module": "@jupyter-widgets/controls",
     "model_module_version": "1.5.0",
     "model_name": "HTMLModel",
     "state": {
      "_dom_classes": [],
      "_model_module": "@jupyter-widgets/controls",
      "_model_module_version": "1.5.0",
      "_model_name": "HTMLModel",
      "_view_count": null,
      "_view_module": "@jupyter-widgets/controls",
      "_view_module_version": "1.5.0",
      "_view_name": "HTMLView",
      "description": "",
      "description_tooltip": null,
      "layout": "IPY_MODEL_39d37ee9f2a648c687e1cf5781e94ca0",
      "placeholder": "​",
      "style": "IPY_MODEL_14897a3cd6074089b50ec9f4d1d22d1a",
      "value": "config.json: 100%"
     }
    },
    "a9bbece72980493b8b8b21bd06146aed": {
     "model_module": "@jupyter-widgets/base",
     "model_module_version": "1.2.0",
     "model_name": "LayoutModel",
     "state": {
      "_model_module": "@jupyter-widgets/base",
      "_model_module_version": "1.2.0",
      "_model_name": "LayoutModel",
      "_view_count": null,
      "_view_module": "@jupyter-widgets/base",
      "_view_module_version": "1.2.0",
      "_view_name": "LayoutView",
      "align_content": null,
      "align_items": null,
      "align_self": null,
      "border": null,
      "bottom": null,
      "display": null,
      "flex": null,
      "flex_flow": null,
      "grid_area": null,
      "grid_auto_columns": null,
      "grid_auto_flow": null,
      "grid_auto_rows": null,
      "grid_column": null,
      "grid_gap": null,
      "grid_row": null,
      "grid_template_areas": null,
      "grid_template_columns": null,
      "grid_template_rows": null,
      "height": null,
      "justify_content": null,
      "justify_items": null,
      "left": null,
      "margin": null,
      "max_height": null,
      "max_width": null,
      "min_height": null,
      "min_width": null,
      "object_fit": null,
      "object_position": null,
      "order": null,
      "overflow": null,
      "overflow_x": null,
      "overflow_y": null,
      "padding": null,
      "right": null,
      "top": null,
      "visibility": null,
      "width": null
     }
    },
    "af40263a965246028527a913c3f4cb8c": {
     "model_module": "@jupyter-widgets/base",
     "model_module_version": "1.2.0",
     "model_name": "LayoutModel",
     "state": {
      "_model_module": "@jupyter-widgets/base",
      "_model_module_version": "1.2.0",
      "_model_name": "LayoutModel",
      "_view_count": null,
      "_view_module": "@jupyter-widgets/base",
      "_view_module_version": "1.2.0",
      "_view_name": "LayoutView",
      "align_content": null,
      "align_items": null,
      "align_self": null,
      "border": null,
      "bottom": null,
      "display": null,
      "flex": null,
      "flex_flow": null,
      "grid_area": null,
      "grid_auto_columns": null,
      "grid_auto_flow": null,
      "grid_auto_rows": null,
      "grid_column": null,
      "grid_gap": null,
      "grid_row": null,
      "grid_template_areas": null,
      "grid_template_columns": null,
      "grid_template_rows": null,
      "height": null,
      "justify_content": null,
      "justify_items": null,
      "left": null,
      "margin": null,
      "max_height": null,
      "max_width": null,
      "min_height": null,
      "min_width": null,
      "object_fit": null,
      "object_position": null,
      "order": null,
      "overflow": null,
      "overflow_x": null,
      "overflow_y": null,
      "padding": null,
      "right": null,
      "top": null,
      "visibility": null,
      "width": null
     }
    },
    "bc786bae97d04bceb72420bc31e6a075": {
     "model_module": "@jupyter-widgets/controls",
     "model_module_version": "1.5.0",
     "model_name": "ProgressStyleModel",
     "state": {
      "_model_module": "@jupyter-widgets/controls",
      "_model_module_version": "1.5.0",
      "_model_name": "ProgressStyleModel",
      "_view_count": null,
      "_view_module": "@jupyter-widgets/base",
      "_view_module_version": "1.2.0",
      "_view_name": "StyleView",
      "bar_color": null,
      "description_width": ""
     }
    },
    "bd2f4df3b4bb4b32a3e45af216d0ed9e": {
     "model_module": "@jupyter-widgets/controls",
     "model_module_version": "1.5.0",
     "model_name": "DescriptionStyleModel",
     "state": {
      "_model_module": "@jupyter-widgets/controls",
      "_model_module_version": "1.5.0",
      "_model_name": "DescriptionStyleModel",
      "_view_count": null,
      "_view_module": "@jupyter-widgets/base",
      "_view_module_version": "1.2.0",
      "_view_name": "StyleView",
      "description_width": ""
     }
    },
    "c6fb7dc4d8234df7825b9be68acfad62": {
     "model_module": "@jupyter-widgets/controls",
     "model_module_version": "1.5.0",
     "model_name": "ProgressStyleModel",
     "state": {
      "_model_module": "@jupyter-widgets/controls",
      "_model_module_version": "1.5.0",
      "_model_name": "ProgressStyleModel",
      "_view_count": null,
      "_view_module": "@jupyter-widgets/base",
      "_view_module_version": "1.2.0",
      "_view_name": "StyleView",
      "bar_color": null,
      "description_width": ""
     }
    },
    "cf46ba0e95b84a4eb0d813340281e6f3": {
     "model_module": "@jupyter-widgets/controls",
     "model_module_version": "1.5.0",
     "model_name": "HTMLModel",
     "state": {
      "_dom_classes": [],
      "_model_module": "@jupyter-widgets/controls",
      "_model_module_version": "1.5.0",
      "_model_name": "HTMLModel",
      "_view_count": null,
      "_view_module": "@jupyter-widgets/controls",
      "_view_module_version": "1.5.0",
      "_view_name": "HTMLView",
      "description": "",
      "description_tooltip": null,
      "layout": "IPY_MODEL_a3169629a9534c48b5cd71760803033f",
      "placeholder": "​",
      "style": "IPY_MODEL_a674c82159dd41f1995a83992eb2cdce",
      "value": "vocab.txt: 100%"
     }
    },
    "db5ac35ec4fd40ca821e96bee7578b63": {
     "model_module": "@jupyter-widgets/base",
     "model_module_version": "1.2.0",
     "model_name": "LayoutModel",
     "state": {
      "_model_module": "@jupyter-widgets/base",
      "_model_module_version": "1.2.0",
      "_model_name": "LayoutModel",
      "_view_count": null,
      "_view_module": "@jupyter-widgets/base",
      "_view_module_version": "1.2.0",
      "_view_name": "LayoutView",
      "align_content": null,
      "align_items": null,
      "align_self": null,
      "border": null,
      "bottom": null,
      "display": null,
      "flex": null,
      "flex_flow": null,
      "grid_area": null,
      "grid_auto_columns": null,
      "grid_auto_flow": null,
      "grid_auto_rows": null,
      "grid_column": null,
      "grid_gap": null,
      "grid_row": null,
      "grid_template_areas": null,
      "grid_template_columns": null,
      "grid_template_rows": null,
      "height": null,
      "justify_content": null,
      "justify_items": null,
      "left": null,
      "margin": null,
      "max_height": null,
      "max_width": null,
      "min_height": null,
      "min_width": null,
      "object_fit": null,
      "object_position": null,
      "order": null,
      "overflow": null,
      "overflow_x": null,
      "overflow_y": null,
      "padding": null,
      "right": null,
      "top": null,
      "visibility": null,
      "width": null
     }
    },
    "db96c801f51a4f3fbb438d29e837314e": {
     "model_module": "@jupyter-widgets/controls",
     "model_module_version": "1.5.0",
     "model_name": "HTMLModel",
     "state": {
      "_dom_classes": [],
      "_model_module": "@jupyter-widgets/controls",
      "_model_module_version": "1.5.0",
      "_model_name": "HTMLModel",
      "_view_count": null,
      "_view_module": "@jupyter-widgets/controls",
      "_view_module_version": "1.5.0",
      "_view_name": "HTMLView",
      "description": "",
      "description_tooltip": null,
      "layout": "IPY_MODEL_5cf9cacb366f420a8f478c2178827812",
      "placeholder": "​",
      "style": "IPY_MODEL_fde3ca17c09f466fad5172b9bc710fa0",
      "value": " 363M/363M [00:04&lt;00:00, 94.6MB/s]"
     }
    },
    "ddc3d32f109d45629614a766f4690ec8": {
     "model_module": "@jupyter-widgets/base",
     "model_module_version": "1.2.0",
     "model_name": "LayoutModel",
     "state": {
      "_model_module": "@jupyter-widgets/base",
      "_model_module_version": "1.2.0",
      "_model_name": "LayoutModel",
      "_view_count": null,
      "_view_module": "@jupyter-widgets/base",
      "_view_module_version": "1.2.0",
      "_view_name": "LayoutView",
      "align_content": null,
      "align_items": null,
      "align_self": null,
      "border": null,
      "bottom": null,
      "display": null,
      "flex": null,
      "flex_flow": null,
      "grid_area": null,
      "grid_auto_columns": null,
      "grid_auto_flow": null,
      "grid_auto_rows": null,
      "grid_column": null,
      "grid_gap": null,
      "grid_row": null,
      "grid_template_areas": null,
      "grid_template_columns": null,
      "grid_template_rows": null,
      "height": null,
      "justify_content": null,
      "justify_items": null,
      "left": null,
      "margin": null,
      "max_height": null,
      "max_width": null,
      "min_height": null,
      "min_width": null,
      "object_fit": null,
      "object_position": null,
      "order": null,
      "overflow": null,
      "overflow_x": null,
      "overflow_y": null,
      "padding": null,
      "right": null,
      "top": null,
      "visibility": null,
      "width": null
     }
    },
    "e1e40850811649dbbceb3b559c469b26": {
     "model_module": "@jupyter-widgets/base",
     "model_module_version": "1.2.0",
     "model_name": "LayoutModel",
     "state": {
      "_model_module": "@jupyter-widgets/base",
      "_model_module_version": "1.2.0",
      "_model_name": "LayoutModel",
      "_view_count": null,
      "_view_module": "@jupyter-widgets/base",
      "_view_module_version": "1.2.0",
      "_view_name": "LayoutView",
      "align_content": null,
      "align_items": null,
      "align_self": null,
      "border": null,
      "bottom": null,
      "display": null,
      "flex": null,
      "flex_flow": null,
      "grid_area": null,
      "grid_auto_columns": null,
      "grid_auto_flow": null,
      "grid_auto_rows": null,
      "grid_column": null,
      "grid_gap": null,
      "grid_row": null,
      "grid_template_areas": null,
      "grid_template_columns": null,
      "grid_template_rows": null,
      "height": null,
      "justify_content": null,
      "justify_items": null,
      "left": null,
      "margin": null,
      "max_height": null,
      "max_width": null,
      "min_height": null,
      "min_width": null,
      "object_fit": null,
      "object_position": null,
      "order": null,
      "overflow": null,
      "overflow_x": null,
      "overflow_y": null,
      "padding": null,
      "right": null,
      "top": null,
      "visibility": null,
      "width": null
     }
    },
    "ea68839a38b5489b86cd87a0d3479f71": {
     "model_module": "@jupyter-widgets/base",
     "model_module_version": "1.2.0",
     "model_name": "LayoutModel",
     "state": {
      "_model_module": "@jupyter-widgets/base",
      "_model_module_version": "1.2.0",
      "_model_name": "LayoutModel",
      "_view_count": null,
      "_view_module": "@jupyter-widgets/base",
      "_view_module_version": "1.2.0",
      "_view_name": "LayoutView",
      "align_content": null,
      "align_items": null,
      "align_self": null,
      "border": null,
      "bottom": null,
      "display": null,
      "flex": null,
      "flex_flow": null,
      "grid_area": null,
      "grid_auto_columns": null,
      "grid_auto_flow": null,
      "grid_auto_rows": null,
      "grid_column": null,
      "grid_gap": null,
      "grid_row": null,
      "grid_template_areas": null,
      "grid_template_columns": null,
      "grid_template_rows": null,
      "height": null,
      "justify_content": null,
      "justify_items": null,
      "left": null,
      "margin": null,
      "max_height": null,
      "max_width": null,
      "min_height": null,
      "min_width": null,
      "object_fit": null,
      "object_position": null,
      "order": null,
      "overflow": null,
      "overflow_x": null,
      "overflow_y": null,
      "padding": null,
      "right": null,
      "top": null,
      "visibility": null,
      "width": null
     }
    },
    "ed4e227dd6d64721a48409230646af59": {
     "model_module": "@jupyter-widgets/controls",
     "model_module_version": "1.5.0",
     "model_name": "DescriptionStyleModel",
     "state": {
      "_model_module": "@jupyter-widgets/controls",
      "_model_module_version": "1.5.0",
      "_model_name": "DescriptionStyleModel",
      "_view_count": null,
      "_view_module": "@jupyter-widgets/base",
      "_view_module_version": "1.2.0",
      "_view_name": "StyleView",
      "description_width": ""
     }
    },
    "fde3ca17c09f466fad5172b9bc710fa0": {
     "model_module": "@jupyter-widgets/controls",
     "model_module_version": "1.5.0",
     "model_name": "DescriptionStyleModel",
     "state": {
      "_model_module": "@jupyter-widgets/controls",
      "_model_module_version": "1.5.0",
      "_model_name": "DescriptionStyleModel",
      "_view_count": null,
      "_view_module": "@jupyter-widgets/base",
      "_view_module_version": "1.2.0",
      "_view_name": "StyleView",
      "description_width": ""
     }
    }
   }
  }
 },
 "nbformat": 4,
 "nbformat_minor": 1
}
